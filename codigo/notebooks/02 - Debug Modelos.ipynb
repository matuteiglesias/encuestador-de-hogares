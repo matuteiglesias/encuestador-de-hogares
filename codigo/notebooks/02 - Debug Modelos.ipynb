{
 "cells": [
  {
   "cell_type": "markdown",
   "metadata": {},
   "source": []
  },
  {
   "cell_type": "code",
   "execution_count": 31,
   "metadata": {},
   "outputs": [],
   "source": [
    "# #!/usr/bin/env python\n",
    "# # coding: utf-8\n",
    "# # \n",
    "\n",
    "\n",
    "# ### PARSEO DE ARGUMENTOS\n",
    "\n",
    "# import argparse\n",
    "\n",
    "# parser = argparse.ArgumentParser(description='A script to process data for a range of years')\n",
    "\n",
    "# parser.add_argument('-y','--years', nargs='+', help='Set the range of years to process data for. Default is the current year and the next year', required=False, type=int, default=[2022, 2023])\n",
    "# parser.add_argument('-ow','--overwrite', nargs=1, required=False, default= True, help='Flag to specify if previous data should be overwritten. Default is True')\n",
    "\n",
    "# args = parser.parse_args()\n",
    "\n",
    "# overwrite = args.overwrite\n",
    "# startyr = args.years[0]\n",
    "# endyr = args.years[1]"
   ]
  },
  {
   "cell_type": "code",
   "execution_count": 32,
   "metadata": {},
   "outputs": [],
   "source": [
    "overwrite = 1\n",
    "startyr = 2024\n",
    "endyr = 2025\n",
    "name = \"202507\" # \"ARG\""
   ]
  },
  {
   "cell_type": "code",
   "execution_count": 33,
   "metadata": {},
   "outputs": [],
   "source": [
    "\n",
    "\n",
    "\n",
    "# Column names\n",
    "y_cols = ['CAT_OCUP', 'P47T', 'PP10E', 'PP10D', 'PP07K', 'PP07I', 'V3_M', 'PP07G4', 'CH16', 'T_VI', \n",
    "          'V12_M', 'TOT_P12', 'PP07G3', 'V5_M', 'PP07H', 'V2_M', 'PP10C', \n",
    "          'PP08D1', 'PP07J', 'CAT_INAC', 'CH07', 'CH08', 'P21', 'PP07G1', 'PP07G_59', 'PP07G2']\n",
    "\n",
    "x_cols1 = ['IX_TOT', 'P02', 'P03', 'AGLO_rk', 'Reg_rk', 'V01', 'H05', 'H06',\n",
    "       'H07', 'H08', 'H09', 'H10', 'H11', 'H12', 'H16', 'H15', 'PROP', 'H14',\n",
    "       'H13', 'P07', 'P08', 'P09', 'P10', 'P05', 'CONDACT']\n",
    "\n",
    "predecir1 = ['CAT_OCUP', 'CAT_INAC', 'CH07']\n",
    "\n",
    "x_cols2 = x_cols1 + predecir1\n",
    "predecir2 = ['INGRESO', 'INGRESO_NLB', 'INGRESO_JUB', 'INGRESO_SBS']\n",
    "\n",
    "x_cols3 = x_cols2 + predecir2\n",
    "predecir3 = ['PP07G1','PP07G_59', 'PP07I', 'PP07J', 'PP07K']\n",
    "\n",
    "# Columnas de ingresos. Necesitan una regresion...\n",
    "columnas_pesos = [u'P21', u'P47T', u'PP08D1', u'TOT_P12', u'T_VI', u'V12_M', u'V2_M', u'V3_M', u'V5_M']\n",
    "\n",
    "x_cols4 = x_cols3 + predecir3\n",
    "\n",
    "predecir4 = columnas_pesos\n",
    "y_cols4 = predecir4\n"
   ]
  },
  {
   "cell_type": "code",
   "execution_count": 34,
   "metadata": {},
   "outputs": [],
   "source": [
    "\n",
    "# #####  TRAINING  #####\n",
    "\n",
    "# #####  Funciones clasificador y regresor  #####\n",
    "\n",
    "# from sklearn.model_selection import train_test_split\n",
    "# from sklearn.ensemble import RandomForestClassifier, RandomForestRegressor\n",
    "# import os\n",
    "# import joblib\n",
    "\n",
    "# def fit_model(train_data, x_cols, y_cols, out_filename,\n",
    "#              model):\n",
    "#     X = train_data[x_cols]\n",
    "#     y = train_data[y_cols]\n",
    "    \n",
    "#     X, X_test, y, y_test = train_test_split(X, y, test_size=0.1) # less memory used\n",
    "    \n",
    "#     clf = model.fit(X.values, y.values) # fit model\n",
    "\n",
    "#     # Detect task type based on model class\n",
    "#     if isinstance(model, RandomForestClassifier):\n",
    "#         task = 'classification'\n",
    "#     elif isinstance(model, RandomForestRegressor):\n",
    "#         task = 'regression'\n",
    "#     else:\n",
    "#         task = 'unknown'\n",
    "\n",
    "#     # Evaluate if supported\n",
    "#     if task in ['classification', 'regression']:\n",
    "#         print(f\"Evaluating model: {out_filename}\")\n",
    "#         evaluate_model(clf, X_test, y_test, task=task)\n",
    "#     else:\n",
    "#         print(f\"⚠️ Unknown model type for evaluation: {type(model)}\")\n",
    "\n",
    "#     # save the model to disk\n",
    "#     if not os.path.exists('./modelos/'):\n",
    "#         os.makedirs('./modelos/')\n",
    "#     joblib.dump(model, out_filename, compress=3)\n",
    "#     print('saved model at: ' + out_filename)\n",
    "\n",
    "# #     print(sorted([(x, sys.getsizeof(globals().get(x))) for x in dir() if not x.startswith('_') and x not in sys.modules and x not in ipython_vars], key=lambda x: x[1], reverse=True)[:5])\n",
    "#     del clf\n",
    "#     del X; del y # liberar memoria eliminando los dataframes mas pesados\n",
    "\n",
    "\n",
    "# from sklearn.metrics import classification_report, confusion_matrix, mean_squared_error, r2_score\n",
    "# from sklearn.multiclass import OneVsRestClassifier\n",
    "\n",
    "# def evaluate_model(model, X_test, y_test, task='classification'):\n",
    "#     y_pred = model.predict(X_test)\n",
    "    \n",
    "#     if task == 'classification':\n",
    "#         print(\"📊 Classification Report:\")\n",
    "#         print(classification_report(y_test, y_pred, zero_division=0))\n",
    "#         print(\"Confusion Matrix:\\n\", confusion_matrix(y_test, y_pred))\n",
    "\n",
    "#     elif task == 'regression':\n",
    "#         print(\"📈 Regression Metrics:\")\n",
    "#         print(\"MSE:\", mean_squared_error(y_test, y_pred))\n",
    "#         print(\"RMSE:\", mean_squared_error(y_test, y_pred, squared=False))\n",
    "#         print(\"R²:\", r2_score(y_test, y_pred))\n"
   ]
  },
  {
   "cell_type": "code",
   "execution_count": 40,
   "metadata": {},
   "outputs": [],
   "source": [
    "import os\n",
    "import joblib\n",
    "import numpy as np\n",
    "from sklearn.model_selection import train_test_split\n",
    "from sklearn.ensemble import RandomForestClassifier, RandomForestRegressor, HistGradientBoostingClassifier\n",
    "from xgboost import XGBClassifier\n",
    "from sklearn.metrics import (\n",
    "    classification_report, confusion_matrix,\n",
    "    mean_squared_error, r2_score\n",
    ")\n",
    "\n",
    "\n",
    "def evaluate_model(model, X_test, y_test, task='classification', target_names=None, target_col=None):\n",
    "    y_pred = model.predict(X_test)\n",
    "\n",
    "    if task == 'classification':\n",
    "        print(f\"\\n📊 Report for target: {target_col or 'Unnamed'}\")\n",
    "        print(classification_report(y_test, y_pred, zero_division=0, target_names=target_names))\n",
    "        print(\"Confusion Matrix:\\n\", confusion_matrix(y_test, y_pred))\n",
    "\n",
    "    elif task == 'regression':\n",
    "        print(f\"\\n📈 Regression Report for target: {target_col or 'Unnamed'}\")\n",
    "        print(\"MSE:\", mean_squared_error(y_test, y_pred))\n",
    "        print(\"RMSE:\", mean_squared_error(y_test, y_pred, squared=False))\n",
    "        print(\"R²:\", r2_score(y_test, y_pred))\n",
    "\n",
    "\n",
    "\n",
    "# def evaluate_model(model, X_test, y_test, task='classification', target_names=None):\n",
    "#     y_pred = model.predict(X_test)\n",
    "\n",
    "#     if task == 'classification':\n",
    "#         if y_test.ndim == 1 or isinstance(y_test, pd.Series):\n",
    "#             print(\"📊 Classification Report:\")\n",
    "#             print(classification_report(y_test, y_pred, zero_division=0, target_names=target_names))\n",
    "#             print(\"Confusion Matrix:\\n\", confusion_matrix(y_test, y_pred))\n",
    "#         else:\n",
    "#             # Multi-output: iterate over columns\n",
    "#             for i, col in enumerate(y_test.columns):\n",
    "#                 print(f\"\\n📊 Report for target: {col}\")\n",
    "#                 print(classification_report(y_test[col], y_pred[:, i], zero_division=0))\n",
    "#                 print(\"Confusion Matrix:\\n\", confusion_matrix(y_test[col], y_pred[:, i]))\n",
    "\n",
    "#     elif task == 'regression':\n",
    "#         if y_test.ndim == 1 or isinstance(y_test, pd.Series):\n",
    "#             y_pred_flat = y_pred\n",
    "#             y_test_flat = y_test\n",
    "#         else:\n",
    "#             # average across columns (summary metric only)\n",
    "#             y_pred_flat = y_pred.ravel()\n",
    "#             y_test_flat = y_test.values.ravel()\n",
    "\n",
    "#         print(\"📈 Regression Metrics:\")\n",
    "#         print(\"MSE:\", mean_squared_error(y_test_flat, y_pred_flat))\n",
    "#         print(\"RMSE:\", mean_squared_error(y_test_flat, y_pred_flat, squared=False))\n",
    "#         print(\"R²:\", r2_score(y_test_flat, y_pred_flat))\n",
    "\n",
    "\n",
    "def fit_model(train_data, x_cols, y_cols, out_filename, model):\n",
    "    X = train_data[x_cols]\n",
    "    y = train_data[y_cols]\n",
    "\n",
    "    X_train, X_test, y_train, y_test = train_test_split(X, y, test_size=0.1, random_state=42)\n",
    "\n",
    "    clf = model.fit(X_train.values, y_train.values)\n",
    "\n",
    "    # Detect task type\n",
    "    if isinstance(model, RandomForestClassifier):\n",
    "        task = 'classification'\n",
    "    if isinstance(model, HistGradientBoostingClassifier):\n",
    "        task = 'classification'\n",
    "    elif isinstance(model, RandomForestRegressor):\n",
    "        task = 'regression'\n",
    "    else:\n",
    "        task = 'unknown'\n",
    "\n",
    "    if task != 'unknown':\n",
    "        print(f\"\\n📂 Evaluating: {out_filename}\")\n",
    "        evaluate_model(clf, X_test, y_test, task=task)\n",
    "    else:\n",
    "        print(f\"⚠️ Unsupported model type: {type(model)}\")\n",
    "\n",
    "    # Save model\n",
    "    os.makedirs('./modelos/', exist_ok=True)\n",
    "    joblib.dump(model, out_filename, compress=3)\n",
    "    print(f\"✅ Model saved at: {out_filename}\\n\")\n",
    "\n",
    "    # Cleanup\n",
    "    del clf, X, y, X_train, y_train, X_test, y_test\n"
   ]
  },
  {
   "cell_type": "code",
   "execution_count": 41,
   "metadata": {},
   "outputs": [],
   "source": [
    "# pip install xgboost"
   ]
  },
  {
   "cell_type": "code",
   "execution_count": 42,
   "metadata": {},
   "outputs": [
    {
     "name": "stdout",
     "output_type": "stream",
     "text": [
      "2024\n"
     ]
    },
    {
     "name": "stderr",
     "output_type": "stream",
     "text": [
      "/home/matias/anaconda3/envs/new_env/lib/python3.11/site-packages/sklearn/utils/validation.py:1183: DataConversionWarning: A column-vector y was passed when a 1d array was expected. Please change the shape of y to (n_samples, ), for example using ravel().\n",
      "  y = column_or_1d(y, warn=True)\n"
     ]
    },
    {
     "name": "stdout",
     "output_type": "stream",
     "text": [
      "\n",
      "📂 Evaluating: ./modelos/clf1_2024_202507_CAT_OCUP\n"
     ]
    },
    {
     "name": "stderr",
     "output_type": "stream",
     "text": [
      "/home/matias/anaconda3/envs/new_env/lib/python3.11/site-packages/sklearn/base.py:458: UserWarning: X has feature names, but HistGradientBoostingClassifier was fitted without feature names\n",
      "  warnings.warn(\n"
     ]
    },
    {
     "name": "stdout",
     "output_type": "stream",
     "text": [
      "\n",
      "📊 Report for target: Unnamed\n",
      "              precision    recall  f1-score   support\n",
      "\n",
      "           0       1.00      0.99      0.99     10504\n",
      "           1       0.09      0.63      0.15       295\n",
      "           2       0.34      0.36      0.35      2204\n",
      "           3       0.81      0.53      0.64      6822\n",
      "           4       0.03      0.49      0.06        35\n",
      "\n",
      "    accuracy                           0.75     19860\n",
      "   macro avg       0.45      0.60      0.44     19860\n",
      "weighted avg       0.84      0.75      0.79     19860\n",
      "\n",
      "Confusion Matrix:\n",
      " [[10383     0    26    83    12]\n",
      " [    0   186    52    44    13]\n",
      " [    5   582   794   723   100]\n",
      " [   12  1398  1449  3587   376]\n",
      " [    2     2     8     6    17]]\n",
      "✅ Model saved at: ./modelos/clf1_2024_202507_CAT_OCUP\n",
      "\n"
     ]
    },
    {
     "name": "stderr",
     "output_type": "stream",
     "text": [
      "/home/matias/anaconda3/envs/new_env/lib/python3.11/site-packages/sklearn/utils/validation.py:1183: DataConversionWarning: A column-vector y was passed when a 1d array was expected. Please change the shape of y to (n_samples, ), for example using ravel().\n",
      "  y = column_or_1d(y, warn=True)\n"
     ]
    },
    {
     "name": "stdout",
     "output_type": "stream",
     "text": [
      "\n",
      "📂 Evaluating: ./modelos/clf1_2024_202507_CAT_INAC\n"
     ]
    },
    {
     "name": "stderr",
     "output_type": "stream",
     "text": [
      "/home/matias/anaconda3/envs/new_env/lib/python3.11/site-packages/sklearn/base.py:458: UserWarning: X has feature names, but HistGradientBoostingClassifier was fitted without feature names\n",
      "  warnings.warn(\n"
     ]
    },
    {
     "name": "stdout",
     "output_type": "stream",
     "text": [
      "\n",
      "📊 Report for target: Unnamed\n",
      "              precision    recall  f1-score   support\n",
      "\n",
      "           0       1.00      1.00      1.00      9500\n",
      "           1       0.78      0.74      0.76      2052\n",
      "           2       0.08      0.40      0.13        40\n",
      "           3       1.00      1.00      1.00      4563\n",
      "           4       0.76      0.61      0.68      1870\n",
      "           5       1.00      1.00      1.00      1181\n",
      "           6       0.29      0.51      0.37       194\n",
      "           7       0.39      0.53      0.45       460\n",
      "\n",
      "    accuracy                           0.92     19860\n",
      "   macro avg       0.66      0.72      0.67     19860\n",
      "weighted avg       0.93      0.92      0.92     19860\n",
      "\n",
      "Confusion Matrix:\n",
      " [[9495    0    0    4    0    0    0    1]\n",
      " [   0 1518   88    3  245    0   76  122]\n",
      " [   0   14   16    0    6    0    4    0]\n",
      " [   0    1    7 4555    0    0    0    0]\n",
      " [   0  312   86    0 1146    0   96  230]\n",
      " [   0    0    0    0    0 1181    0    0]\n",
      " [   0   30    6    0   34    0   98   26]\n",
      " [   0   67    3    0   82    0   62  246]]\n",
      "✅ Model saved at: ./modelos/clf1_2024_202507_CAT_INAC\n",
      "\n"
     ]
    },
    {
     "name": "stderr",
     "output_type": "stream",
     "text": [
      "/home/matias/anaconda3/envs/new_env/lib/python3.11/site-packages/sklearn/utils/validation.py:1183: DataConversionWarning: A column-vector y was passed when a 1d array was expected. Please change the shape of y to (n_samples, ), for example using ravel().\n",
      "  y = column_or_1d(y, warn=True)\n"
     ]
    },
    {
     "name": "stdout",
     "output_type": "stream",
     "text": [
      "\n",
      "📂 Evaluating: ./modelos/clf1_2024_202507_CH07\n"
     ]
    },
    {
     "name": "stderr",
     "output_type": "stream",
     "text": [
      "/home/matias/anaconda3/envs/new_env/lib/python3.11/site-packages/sklearn/base.py:458: UserWarning: X has feature names, but HistGradientBoostingClassifier was fitted without feature names\n",
      "  warnings.warn(\n"
     ]
    },
    {
     "name": "stdout",
     "output_type": "stream",
     "text": [
      "\n",
      "📊 Report for target: Unnamed\n",
      "              precision    recall  f1-score   support\n",
      "\n",
      "           1       0.55      0.67      0.61      3550\n",
      "           2       0.67      0.63      0.65      3969\n",
      "           3       0.32      0.54      0.41      1243\n",
      "           4       0.51      0.77      0.61      1062\n",
      "           5       0.96      0.78      0.86     10036\n",
      "\n",
      "    accuracy                           0.72     19860\n",
      "   macro avg       0.60      0.68      0.63     19860\n",
      "weighted avg       0.77      0.72      0.73     19860\n",
      "\n",
      "Confusion Matrix:\n",
      " [[2395  667  204   73  211]\n",
      " [ 818 2494  286  323   48]\n",
      " [ 152  202  672  174   43]\n",
      " [  12  109  122  817    2]\n",
      " [ 944  245  787  222 7838]]\n",
      "✅ Model saved at: ./modelos/clf1_2024_202507_CH07\n",
      "\n"
     ]
    },
    {
     "name": "stderr",
     "output_type": "stream",
     "text": [
      "/home/matias/anaconda3/envs/new_env/lib/python3.11/site-packages/sklearn/utils/validation.py:1183: DataConversionWarning: A column-vector y was passed when a 1d array was expected. Please change the shape of y to (n_samples, ), for example using ravel().\n",
      "  y = column_or_1d(y, warn=True)\n"
     ]
    },
    {
     "name": "stdout",
     "output_type": "stream",
     "text": [
      "\n",
      "📂 Evaluating: ./modelos/clf2_2024_202507_INGRESO\n"
     ]
    },
    {
     "name": "stderr",
     "output_type": "stream",
     "text": [
      "/home/matias/anaconda3/envs/new_env/lib/python3.11/site-packages/sklearn/base.py:458: UserWarning: X has feature names, but HistGradientBoostingClassifier was fitted without feature names\n",
      "  warnings.warn(\n"
     ]
    },
    {
     "name": "stdout",
     "output_type": "stream",
     "text": [
      "\n",
      "📊 Report for target: Unnamed\n",
      "              precision    recall  f1-score   support\n",
      "\n",
      "           0       0.88      0.74      0.81      9192\n",
      "           1       0.81      0.91      0.86     10668\n",
      "\n",
      "    accuracy                           0.83     19860\n",
      "   macro avg       0.84      0.83      0.83     19860\n",
      "weighted avg       0.84      0.83      0.83     19860\n",
      "\n",
      "Confusion Matrix:\n",
      " [[6846 2346]\n",
      " [ 949 9719]]\n",
      "✅ Model saved at: ./modelos/clf2_2024_202507_INGRESO\n",
      "\n"
     ]
    },
    {
     "name": "stderr",
     "output_type": "stream",
     "text": [
      "/home/matias/anaconda3/envs/new_env/lib/python3.11/site-packages/sklearn/utils/validation.py:1183: DataConversionWarning: A column-vector y was passed when a 1d array was expected. Please change the shape of y to (n_samples, ), for example using ravel().\n",
      "  y = column_or_1d(y, warn=True)\n"
     ]
    },
    {
     "name": "stdout",
     "output_type": "stream",
     "text": [
      "\n",
      "📂 Evaluating: ./modelos/clf2_2024_202507_INGRESO_NLB\n"
     ]
    },
    {
     "name": "stderr",
     "output_type": "stream",
     "text": [
      "/home/matias/anaconda3/envs/new_env/lib/python3.11/site-packages/sklearn/base.py:458: UserWarning: X has feature names, but HistGradientBoostingClassifier was fitted without feature names\n",
      "  warnings.warn(\n"
     ]
    },
    {
     "name": "stdout",
     "output_type": "stream",
     "text": [
      "\n",
      "📊 Report for target: Unnamed\n",
      "              precision    recall  f1-score   support\n",
      "\n",
      "           0       0.94      0.86      0.90     14828\n",
      "           1       0.66      0.83      0.74      5032\n",
      "\n",
      "    accuracy                           0.85     19860\n",
      "   macro avg       0.80      0.84      0.82     19860\n",
      "weighted avg       0.87      0.85      0.85     19860\n",
      "\n",
      "Confusion Matrix:\n",
      " [[12725  2103]\n",
      " [  877  4155]]\n",
      "✅ Model saved at: ./modelos/clf2_2024_202507_INGRESO_NLB\n",
      "\n"
     ]
    },
    {
     "name": "stderr",
     "output_type": "stream",
     "text": [
      "/home/matias/anaconda3/envs/new_env/lib/python3.11/site-packages/sklearn/utils/validation.py:1183: DataConversionWarning: A column-vector y was passed when a 1d array was expected. Please change the shape of y to (n_samples, ), for example using ravel().\n",
      "  y = column_or_1d(y, warn=True)\n"
     ]
    },
    {
     "name": "stdout",
     "output_type": "stream",
     "text": [
      "\n",
      "📂 Evaluating: ./modelos/clf2_2024_202507_INGRESO_JUB\n"
     ]
    },
    {
     "name": "stderr",
     "output_type": "stream",
     "text": [
      "/home/matias/anaconda3/envs/new_env/lib/python3.11/site-packages/sklearn/base.py:458: UserWarning: X has feature names, but HistGradientBoostingClassifier was fitted without feature names\n",
      "  warnings.warn(\n"
     ]
    },
    {
     "name": "stdout",
     "output_type": "stream",
     "text": [
      "\n",
      "📊 Report for target: Unnamed\n",
      "              precision    recall  f1-score   support\n",
      "\n",
      "           0       0.98      0.94      0.96     16514\n",
      "           1       0.76      0.92      0.83      3346\n",
      "\n",
      "    accuracy                           0.94     19860\n",
      "   macro avg       0.87      0.93      0.90     19860\n",
      "weighted avg       0.95      0.94      0.94     19860\n",
      "\n",
      "Confusion Matrix:\n",
      " [[15551   963]\n",
      " [  271  3075]]\n",
      "✅ Model saved at: ./modelos/clf2_2024_202507_INGRESO_JUB\n",
      "\n"
     ]
    },
    {
     "name": "stderr",
     "output_type": "stream",
     "text": [
      "/home/matias/anaconda3/envs/new_env/lib/python3.11/site-packages/sklearn/utils/validation.py:1183: DataConversionWarning: A column-vector y was passed when a 1d array was expected. Please change the shape of y to (n_samples, ), for example using ravel().\n",
      "  y = column_or_1d(y, warn=True)\n"
     ]
    },
    {
     "name": "stdout",
     "output_type": "stream",
     "text": [
      "\n",
      "📂 Evaluating: ./modelos/clf2_2024_202507_INGRESO_SBS\n"
     ]
    },
    {
     "name": "stderr",
     "output_type": "stream",
     "text": [
      "/home/matias/anaconda3/envs/new_env/lib/python3.11/site-packages/sklearn/base.py:458: UserWarning: X has feature names, but HistGradientBoostingClassifier was fitted without feature names\n",
      "  warnings.warn(\n"
     ]
    },
    {
     "name": "stdout",
     "output_type": "stream",
     "text": [
      "\n",
      "📊 Report for target: Unnamed\n",
      "              precision    recall  f1-score   support\n",
      "\n",
      "           0       0.99      0.88      0.93     18928\n",
      "           1       0.25      0.84      0.39       932\n",
      "\n",
      "    accuracy                           0.88     19860\n",
      "   macro avg       0.62      0.86      0.66     19860\n",
      "weighted avg       0.96      0.88      0.91     19860\n",
      "\n",
      "Confusion Matrix:\n",
      " [[16619  2309]\n",
      " [  146   786]]\n",
      "✅ Model saved at: ./modelos/clf2_2024_202507_INGRESO_SBS\n",
      "\n"
     ]
    },
    {
     "name": "stderr",
     "output_type": "stream",
     "text": [
      "/home/matias/anaconda3/envs/new_env/lib/python3.11/site-packages/sklearn/utils/validation.py:1183: DataConversionWarning: A column-vector y was passed when a 1d array was expected. Please change the shape of y to (n_samples, ), for example using ravel().\n",
      "  y = column_or_1d(y, warn=True)\n"
     ]
    },
    {
     "name": "stdout",
     "output_type": "stream",
     "text": [
      "\n",
      "📂 Evaluating: ./modelos/clf3_2024_202507_PP07G1\n"
     ]
    },
    {
     "name": "stderr",
     "output_type": "stream",
     "text": [
      "/home/matias/anaconda3/envs/new_env/lib/python3.11/site-packages/sklearn/base.py:458: UserWarning: X has feature names, but HistGradientBoostingClassifier was fitted without feature names\n",
      "  warnings.warn(\n"
     ]
    },
    {
     "name": "stdout",
     "output_type": "stream",
     "text": [
      "\n",
      "📊 Report for target: Unnamed\n",
      "              precision    recall  f1-score   support\n",
      "\n",
      "         0.0       1.00      1.00      1.00     13412\n",
      "         1.0       0.83      0.80      0.81      4225\n",
      "         2.0       0.64      0.70      0.67      2223\n",
      "\n",
      "    accuracy                           0.92     19860\n",
      "   macro avg       0.82      0.83      0.83     19860\n",
      "weighted avg       0.92      0.92      0.92     19860\n",
      "\n",
      "Confusion Matrix:\n",
      " [[13385    18     9]\n",
      " [    0  3362   863]\n",
      " [    0   662  1561]]\n",
      "✅ Model saved at: ./modelos/clf3_2024_202507_PP07G1\n",
      "\n"
     ]
    },
    {
     "name": "stderr",
     "output_type": "stream",
     "text": [
      "/home/matias/anaconda3/envs/new_env/lib/python3.11/site-packages/sklearn/utils/validation.py:1183: DataConversionWarning: A column-vector y was passed when a 1d array was expected. Please change the shape of y to (n_samples, ), for example using ravel().\n",
      "  y = column_or_1d(y, warn=True)\n"
     ]
    },
    {
     "name": "stdout",
     "output_type": "stream",
     "text": [
      "\n",
      "📂 Evaluating: ./modelos/clf3_2024_202507_PP07G_59\n"
     ]
    },
    {
     "name": "stderr",
     "output_type": "stream",
     "text": [
      "/home/matias/anaconda3/envs/new_env/lib/python3.11/site-packages/sklearn/base.py:458: UserWarning: X has feature names, but HistGradientBoostingClassifier was fitted without feature names\n",
      "  warnings.warn(\n"
     ]
    },
    {
     "name": "stdout",
     "output_type": "stream",
     "text": [
      "\n",
      "📊 Report for target: Unnamed\n",
      "              precision    recall  f1-score   support\n",
      "\n",
      "         0.0       0.99      0.86      0.92     17821\n",
      "         5.0       0.43      0.93      0.59      2039\n",
      "\n",
      "    accuracy                           0.87     19860\n",
      "   macro avg       0.71      0.89      0.75     19860\n",
      "weighted avg       0.93      0.87      0.89     19860\n",
      "\n",
      "Confusion Matrix:\n",
      " [[15293  2528]\n",
      " [  143  1896]]\n",
      "✅ Model saved at: ./modelos/clf3_2024_202507_PP07G_59\n",
      "\n"
     ]
    },
    {
     "name": "stderr",
     "output_type": "stream",
     "text": [
      "/home/matias/anaconda3/envs/new_env/lib/python3.11/site-packages/sklearn/utils/validation.py:1183: DataConversionWarning: A column-vector y was passed when a 1d array was expected. Please change the shape of y to (n_samples, ), for example using ravel().\n",
      "  y = column_or_1d(y, warn=True)\n"
     ]
    },
    {
     "name": "stdout",
     "output_type": "stream",
     "text": [
      "\n",
      "📂 Evaluating: ./modelos/clf3_2024_202507_PP07I\n"
     ]
    },
    {
     "name": "stderr",
     "output_type": "stream",
     "text": [
      "/home/matias/anaconda3/envs/new_env/lib/python3.11/site-packages/sklearn/base.py:458: UserWarning: X has feature names, but HistGradientBoostingClassifier was fitted without feature names\n",
      "  warnings.warn(\n"
     ]
    },
    {
     "name": "stdout",
     "output_type": "stream",
     "text": [
      "\n",
      "📊 Report for target: Unnamed\n",
      "              precision    recall  f1-score   support\n",
      "\n",
      "         0.0       1.00      0.81      0.89     17496\n",
      "         1.0       0.08      0.66      0.14       309\n",
      "         2.0       0.54      0.81      0.65      2055\n",
      "\n",
      "    accuracy                           0.80     19860\n",
      "   macro avg       0.54      0.76      0.56     19860\n",
      "weighted avg       0.93      0.80      0.85     19860\n",
      "\n",
      "Confusion Matrix:\n",
      " [[14108  2037  1351]\n",
      " [   13   204    92]\n",
      " [   38   343  1674]]\n",
      "✅ Model saved at: ./modelos/clf3_2024_202507_PP07I\n",
      "\n"
     ]
    },
    {
     "name": "stderr",
     "output_type": "stream",
     "text": [
      "/home/matias/anaconda3/envs/new_env/lib/python3.11/site-packages/sklearn/utils/validation.py:1183: DataConversionWarning: A column-vector y was passed when a 1d array was expected. Please change the shape of y to (n_samples, ), for example using ravel().\n",
      "  y = column_or_1d(y, warn=True)\n"
     ]
    },
    {
     "name": "stdout",
     "output_type": "stream",
     "text": [
      "\n",
      "📂 Evaluating: ./modelos/clf3_2024_202507_PP07J\n"
     ]
    },
    {
     "name": "stderr",
     "output_type": "stream",
     "text": [
      "/home/matias/anaconda3/envs/new_env/lib/python3.11/site-packages/sklearn/base.py:458: UserWarning: X has feature names, but HistGradientBoostingClassifier was fitted without feature names\n",
      "  warnings.warn(\n"
     ]
    },
    {
     "name": "stdout",
     "output_type": "stream",
     "text": [
      "\n",
      "📊 Report for target: Unnamed\n",
      "              precision    recall  f1-score   support\n",
      "\n",
      "         0.0       1.00      1.00      1.00     13412\n",
      "         1.0       0.93      0.59      0.72      5717\n",
      "         2.0       0.07      0.38      0.11       159\n",
      "         3.0       0.16      0.55      0.25       572\n",
      "\n",
      "    accuracy                           0.86     19860\n",
      "   macro avg       0.54      0.63      0.52     19860\n",
      "weighted avg       0.95      0.86      0.89     19860\n",
      "\n",
      "Confusion Matrix:\n",
      " [[13385    21     5     1]\n",
      " [    0  3382   785  1550]\n",
      " [    0    47    61    51]\n",
      " [    0   190    68   314]]\n",
      "✅ Model saved at: ./modelos/clf3_2024_202507_PP07J\n",
      "\n"
     ]
    },
    {
     "name": "stderr",
     "output_type": "stream",
     "text": [
      "/home/matias/anaconda3/envs/new_env/lib/python3.11/site-packages/sklearn/utils/validation.py:1183: DataConversionWarning: A column-vector y was passed when a 1d array was expected. Please change the shape of y to (n_samples, ), for example using ravel().\n",
      "  y = column_or_1d(y, warn=True)\n"
     ]
    },
    {
     "name": "stdout",
     "output_type": "stream",
     "text": [
      "\n",
      "📂 Evaluating: ./modelos/clf3_2024_202507_PP07K\n"
     ]
    },
    {
     "name": "stderr",
     "output_type": "stream",
     "text": [
      "/home/matias/anaconda3/envs/new_env/lib/python3.11/site-packages/sklearn/base.py:458: UserWarning: X has feature names, but HistGradientBoostingClassifier was fitted without feature names\n",
      "  warnings.warn(\n"
     ]
    },
    {
     "name": "stdout",
     "output_type": "stream",
     "text": [
      "\n",
      "📊 Report for target: Unnamed\n",
      "              precision    recall  f1-score   support\n",
      "\n",
      "         0.0       1.00      1.00      1.00     13412\n",
      "         1.0       0.85      0.56      0.67      4146\n",
      "         2.0       0.10      0.45      0.16       171\n",
      "         3.0       0.09      0.33      0.14       273\n",
      "         4.0       0.60      0.61      0.60      1847\n",
      "         5.0       0.03      0.18      0.05        11\n",
      "\n",
      "    accuracy                           0.86     19860\n",
      "   macro avg       0.44      0.52      0.44     19860\n",
      "weighted avg       0.91      0.86      0.87     19860\n",
      "\n",
      "Confusion Matrix:\n",
      " [[13385    12     0     7     7     1]\n",
      " [    0  2323   407   741   638    37]\n",
      " [    0    22    77    12    59     1]\n",
      " [    0   106    28    89    48     2]\n",
      " [    0   282   261   165  1119    20]\n",
      " [    0     0     1     4     4     2]]\n",
      "✅ Model saved at: ./modelos/clf3_2024_202507_PP07K\n",
      "\n"
     ]
    }
   ],
   "source": [
    "    \n",
    "##########################################################################################    \n",
    "################ Loop principal. Entrenar y guardar modelos  #############################\n",
    "##########################################################################################\n",
    "\n",
    "import pandas as pd\n",
    "from numpy import log10\n",
    "\n",
    "from xgboost import XGBClassifier\n",
    "\n",
    "# Reusable model configuration\n",
    "def make_model():\n",
    "    return HistGradientBoostingClassifier(\n",
    "        learning_rate=0.05,\n",
    "        max_iter=300,\n",
    "        max_leaf_nodes=64,\n",
    "        early_stopping=True,\n",
    "        validation_fraction=0.1,\n",
    "        n_iter_no_change=20,\n",
    "        class_weight=\"balanced\",\n",
    "        random_state=42,\n",
    "        verbose=0\n",
    "    )\n",
    "\n",
    "\n",
    "# Unified stage runner\n",
    "def run_stage(train_data, x_cols, y_cols, stage_name):\n",
    "    for target_col in y_cols:\n",
    "        out = f'./modelos/{stage_name}_{yr}_{name}_{target_col}'\n",
    "        if not os.path.exists(out) or overwrite:\n",
    "            model = make_model()\n",
    "            fit_model(\n",
    "                train_data,\n",
    "                x_cols=x_cols,\n",
    "                y_cols=[target_col],\n",
    "                out_filename=out,\n",
    "                model=model\n",
    "            )\n",
    "\n",
    "            \n",
    "for yr in [str(s) for s in range(startyr, endyr)]:\n",
    "    print(yr)\n",
    "    try:\n",
    "        training_data = f'./../../data/training/EPHARG_train_{yr[2:]}.csv'\n",
    "        train_data = pd.read_csv(training_data)\n",
    "    except FileNotFoundError:\n",
    "        print(f\"File {training_data} not found for year {yr}, skipping.\")\n",
    "        continue\n",
    "    \n",
    "\n",
    "    # Run each stage\n",
    "    run_stage(train_data, x_cols1, predecir1, \"clf1\")\n",
    "    run_stage(train_data, x_cols2, predecir2, \"clf2\")\n",
    "    run_stage(train_data, x_cols3, predecir3, \"clf3\")"
   ]
  },
  {
   "cell_type": "code",
   "execution_count": null,
   "metadata": {},
   "outputs": [],
   "source": []
  }
 ],
 "metadata": {
  "kernelspec": {
   "display_name": "new_env",
   "language": "python",
   "name": "python3"
  },
  "language_info": {
   "codemirror_mode": {
    "name": "ipython",
    "version": 3
   },
   "file_extension": ".py",
   "mimetype": "text/x-python",
   "name": "python",
   "nbconvert_exporter": "python",
   "pygments_lexer": "ipython3",
   "version": "3.11.11"
  }
 },
 "nbformat": 4,
 "nbformat_minor": 2
}
