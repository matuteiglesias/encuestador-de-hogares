{
 "cells": [
  {
   "cell_type": "markdown",
   "metadata": {},
   "source": [
    "# Training ML algos on EPH. Predicting on CENSO."
   ]
  },
  {
   "cell_type": "code",
   "execution_count": 1,
   "metadata": {},
   "outputs": [],
   "source": [
    "startyr = 2021\n",
    "endyr = 2022"
   ]
  },
  {
   "cell_type": "code",
   "execution_count": 2,
   "metadata": {},
   "outputs": [
    {
     "data": {
      "text/html": [
       "<style>.container { width:100% !important; }</style>"
      ],
      "text/plain": [
       "<IPython.core.display.HTML object>"
      ]
     },
     "metadata": {},
     "output_type": "display_data"
    }
   ],
   "source": [
    "# Load modules\n",
    "import warnings\n",
    "warnings.filterwarnings('ignore')\n",
    "\n",
    "import pandas as pd\n",
    "import numpy as np\n",
    "\n",
    "from sklearn.model_selection import train_test_split\n",
    "from sklearn.ensemble import RandomForestClassifier, RandomForestRegressor\n",
    "from IPython.core.display import display, HTML\n",
    "\n",
    "# import pickle\n",
    "import joblib\n",
    "\n",
    "from IPython.core.display import display, HTML\n",
    "display(HTML(\"<style>.container { width:100% !important; }</style>\"))\n",
    "\n",
    "import os\n",
    "import json"
   ]
  },
  {
   "cell_type": "code",
   "execution_count": 3,
   "metadata": {},
   "outputs": [
    {
     "name": "stdout",
     "output_type": "stream",
     "text": [
      "[('HTML', 1064), ('RandomForestClassifier', 1064), ('RandomForestRegressor', 1064), ('display', 136), ('train_test_split', 136)]\n"
     ]
    }
   ],
   "source": [
    "import sys\n",
    "\n",
    "# These are the usual ipython objects, including this one you are creating\n",
    "ipython_vars = ['In', 'Out', 'exit', 'quit', 'get_ipython', 'ipython_vars']\n",
    "print(sorted([(x, sys.getsizeof(globals().get(x))) for x in dir() if not x.startswith('_') and x not in sys.modules and x not in ipython_vars], key=lambda x: x[1], reverse=True)[:5])\n"
   ]
  },
  {
   "cell_type": "code",
   "execution_count": null,
   "metadata": {},
   "outputs": [],
   "source": []
  },
  {
   "cell_type": "code",
   "execution_count": 4,
   "metadata": {},
   "outputs": [],
   "source": [
    "# Column names\n",
    "y_cols = ['CAT_OCUP', 'P47T', 'PP10E', 'PP10D', 'PP07K', 'PP07I', 'V3_M', 'PP07G4', 'CH16', 'T_VI', \n",
    "          'V12_M', 'TOT_P12', 'PP07G3', 'V5_M', 'PP07H', 'V2_M', 'PP10C', \n",
    "          'PP08D1', 'PP07J', 'CAT_INAC', 'CH07', 'CH08', 'P21', 'PP07G1', 'PP07G_59', 'PP07G2']\n",
    "\n",
    "x_cols = ['IX_TOT', 'P02', 'P03', 'AGLO_rk', 'Reg_rk', 'V01', 'H05', 'H06',\n",
    "       'H07', 'H08', 'H09', 'H10', 'H11', 'H12', 'H16', 'H15', 'PROP', 'H14',\n",
    "       'H13', 'P07', 'P08', 'P09', 'P10', 'P05', 'CONDACT']\n",
    "\n",
    "x_cols1 = x_cols\n",
    "predecir1 = ['CAT_OCUP', 'CAT_INAC', 'CH07']\n",
    "\n",
    "x_cols2 = x_cols1 + predecir1\n",
    "predecir2 = ['INGRESO', 'INGRESO_NLB', 'INGRESO_JUB', 'INGRESO_SBS']\n",
    "\n",
    "x_cols3 = x_cols2 + predecir2\n",
    "# La seccion PP07G pregunta si el trabajo es en blanco y que beneficios tiene. Puede ayudar a la regresion para ingresos.\n",
    "# predecir3 = ['PP07G1', 'PP07G2', 'PP07G3', 'PP07G4', 'PP07G_59', 'PP07H', 'PP07I', 'PP07J', 'PP07K']\n",
    "predecir3 = ['PP07G1','PP07G_59', 'PP07I', 'PP07J', 'PP07K']\n",
    "\n",
    "# Columnas de ingresos. Necesitan una regresion...\n",
    "columnas_pesos = [u'P21', u'P47T', u'PP08D1', u'TOT_P12', u'T_VI', u'V12_M', u'V2_M', u'V3_M', u'V5_M']\n",
    "# P21: INGRESO DE LA OCUPACIÓN PRINCIPAL \n",
    "# P47T: TOTAL (laboral y no laboral)\n",
    "# PP08D1: Sueldos, jornales, etc.\n",
    "# TOT_P12: TOTAL DE INGRESO  POR  OTRAS OCUPACIONES (Secundaria, previa...)\n",
    "# T_VI: TOTAL DE INGRESOS NO LABORALES\n",
    "# V12_M:  CUOTAS DE ALIMENTOS O AYUDA EN DINERO  DE PERSONAS QUE NO VIVEN EN EL HOGAR \n",
    "# V2_M: ingreso por JUBILACION O PENSION\n",
    "# V3_M: INDEMNIZACION POR DESPIDO \n",
    "# V5_M: SUBSIDIO  O AYUDA SOCIAL DEL GOBIERNO, IGLESIAS, ETC.\n",
    "\n",
    "x_cols4 = x_cols3 + predecir3\n",
    "# Columnas de ingresos. Necesitan una regresion...\n",
    "predecir4 = columnas_pesos\n",
    "y_cols4 = predecir4"
   ]
  },
  {
   "cell_type": "code",
   "execution_count": 5,
   "metadata": {},
   "outputs": [],
   "source": [
    "def prepend_index_level(index, key, name=None):\n",
    "    names = index.names\n",
    "    if index.nlevels==1:\n",
    "        # Sequence of tuples\n",
    "        index = ((item,) for item in index)\n",
    "\n",
    "    tuples_gen = ((key,)+item for item in index)\n",
    "    return pd.MultiIndex.from_tuples(tuples_gen, names=[name]+names)"
   ]
  },
  {
   "cell_type": "markdown",
   "metadata": {},
   "source": [
    "### Load info"
   ]
  },
  {
   "cell_type": "code",
   "execution_count": 6,
   "metadata": {
    "scrolled": false
   },
   "outputs": [],
   "source": [
    "radio_ref = pd.read_csv('./../data/info/radio_ref.csv')\n",
    "\n",
    "AGLO_rk = pd.read_csv('./../data/info/AGLO_rk')\n",
    "Reg_rk = pd.read_csv('./../data/info/Reg_rk')"
   ]
  },
  {
   "cell_type": "markdown",
   "metadata": {},
   "source": [
    "### Set up Google sheet connection"
   ]
  },
  {
   "cell_type": "code",
   "execution_count": 7,
   "metadata": {},
   "outputs": [],
   "source": [
    "from oauth2client.service_account import ServiceAccountCredentials\n",
    "import gspread\n",
    "from numpy import array, nan\n",
    "\n",
    "scope = ['https://spreadsheets.google.com/feeds',\n",
    "         'https://www.googleapis.com/auth/drive']\n",
    "credentials = ServiceAccountCredentials.from_json_keyfile_name(\n",
    "         './../../../Desktop/newgsheets-349817-e11b8c6a66ec.json', scope) # Your json file here\n",
    "gc = gspread.authorize(credentials)\n",
    "sheet_id = '1qlSesmbEnR0NHi_pe8NDJEG80v-fbumJBviy8yb9Ojc'\n",
    "sh = gc.open_by_key(sheet_id)#.get_worksheet('Sheet1')\n",
    "\n",
    "# # Get a list of all worksheets\n",
    "# worksheet_list = sh.worksheets()\n"
   ]
  },
  {
   "cell_type": "markdown",
   "metadata": {},
   "source": [
    "### Funcion subir confusion matrices a Gsheets"
   ]
  },
  {
   "cell_type": "code",
   "execution_count": 8,
   "metadata": {},
   "outputs": [],
   "source": [
    "from sklearn.metrics import confusion_matrix  \n",
    "\n",
    "def compute_upload_conf_matrix(y_true, y_pred, col):\n",
    "    conf_vals = confusion_matrix(y_[col], y_pred[col])\n",
    "    \n",
    "    confusion = pd.DataFrame(conf_vals, columns = sorted(y_[col].unique()), index = sorted(y_pred[col].unique()))\n",
    "    confusion = 100*confusion.div(confusion.sum(1), 0).round(3)\n",
    "    \n",
    "    confusion.columns.name = \"Prediccion\"\n",
    "    confusion.index.name = \"Verdadero\"\n",
    "    \n",
    "    display(confusion)\n",
    "    \n",
    "    ## UPDATE G SHEET\n",
    "    df = confusion.reset_index()\n",
    "    rows, cols = df.shape\n",
    "\n",
    "    worksheet = sh.worksheet(col)\n",
    "    worksheet.update([df.columns.values.tolist()] + [6*['']] + df.values.tolist())\n",
    "    worksheet.update('A1', 'Verdadero')\n",
    "    worksheet.update('A2', 'Prediccion')\n",
    "    worksheet.format('A', {'textFormat': {'bold': True}})\n",
    "    worksheet.format('1', {'textFormat': {'bold': True}})"
   ]
  },
  {
   "cell_type": "markdown",
   "metadata": {},
   "source": [
    "### Funcion entrenar modelo y guardarlo"
   ]
  },
  {
   "cell_type": "code",
   "execution_count": 9,
   "metadata": {},
   "outputs": [],
   "source": [
    "def fit_save_clf(data, x_cols, y_cols, filename):\n",
    "\n",
    "    data['split'] = data.index.values % 6\n",
    "\n",
    "    test  = data.loc[data.split == 0].reset_index(drop = True)\n",
    "    train = data.loc[data.split != 0]\n",
    "    del data\n",
    "    \n",
    "    X, y = train[x_cols], train[y_cols]\n",
    "    X_, y_ = test[x_cols], test[y_cols]\n",
    "    del train; del test\n",
    "\n",
    "    forest = RandomForestClassifier(n_estimators=100, max_depth = 20, n_jobs = -1)\n",
    "    clf = forest.fit(X.values, y.values)\n",
    "\n",
    "    # save the model to disk\n",
    "    if not os.path.exists('./../fitted_RF/'):\n",
    "        os.makedirs('./../fitted_RF/')\n",
    "    \n",
    "    joblib.dump(forest, filename, compress=3)\n",
    "    \n",
    "    del X; del y; # liberar memoria eliminando los dataframes mas pesados\n",
    "    \n",
    "    return clf, X_, y_  #devuelve modelo e info para testeo"
   ]
  },
  {
   "cell_type": "markdown",
   "metadata": {},
   "source": [
    "### Funcion computar factores"
   ]
  },
  {
   "cell_type": "code",
   "execution_count": 10,
   "metadata": {},
   "outputs": [],
   "source": [
    "def compute_factors_wCV(data, x_cols, y_cols):\n",
    "    data['split'] = data.index.values % 6\n",
    "\n",
    "    test  = data.loc[data.split == 0].reset_index(drop = True)\n",
    "    train = data.loc[data.split != 0]\n",
    "    \n",
    "    ## En cada particion de Cross Validation\n",
    "    factors_df_parts = []\n",
    "\n",
    "    for i in range(1, 6)[:2]:\n",
    "        print(i)\n",
    "    #     Separar train y test\n",
    "        cv_part = train.loc[train.split != i]\n",
    "        cv_test = train.loc[train.split == i].reset_index(drop = True)\n",
    "\n",
    "        # Ajustar modelo en train\n",
    "        X, y = cv_part[x_cols], cv_part[y_cols]\n",
    "        del cv_part\n",
    "\n",
    "        forest = RandomForestClassifier(n_estimators=100, max_depth = 20, n_jobs = -1)\n",
    "        clf = forest.fit(X.values, y.values)\n",
    "\n",
    "        X_, y_ = cv_test[x_cols], cv_test[y_cols]\n",
    "        del cv_test\n",
    "\n",
    "        # # For each of the columns, get the proba so that the correct number of observations are above.\n",
    "        proba_values = clf.predict_proba(X_)\n",
    "    #     y_pred = y_.copy()\n",
    "\n",
    "        for j, y_col in enumerate(y_cols):\n",
    "            y_probas = pd.DataFrame(proba_values[j], columns = sorted(y_[y_col].unique()))\n",
    "\n",
    "            counts = y_[y_col].value_counts().sort_index()\n",
    "\n",
    "            ## Get the highest\n",
    "            y_probas_rk = y_probas.rank(method = 'first', ascending = False)\n",
    "\n",
    "            factors = ((y_probas_rk > counts)*y_probas).max()\n",
    "            factors_df_part = pd.DataFrame(factors.reset_index()); \n",
    "            factors_df_part.columns = ['valor', 'factor']\n",
    "            factors_df_part['variable'] = y_col\n",
    "            factors_df_part['part'] = i\n",
    "    #         y_pred[y_col] = (y_probas/factors).idxmax(1)#.value_counts().sort_index()\n",
    "\n",
    "            factors_df_parts += [factors_df_part]\n",
    "\n",
    "    factors_df = pd.concat(factors_df_parts)\n",
    "    \n",
    "    factors_mean = factors_df.groupby(['variable', 'valor'])['factor'].mean()\n",
    "    \n",
    "    return factors_mean"
   ]
  },
  {
   "cell_type": "markdown",
   "metadata": {},
   "source": [
    "# Training"
   ]
  },
  {
   "cell_type": "markdown",
   "metadata": {},
   "source": [
    "## Classification 1\n",
    "Columnas ['CAT_OCUP', 'CAT_INAC', 'CH07']"
   ]
  },
  {
   "cell_type": "code",
   "execution_count": 11,
   "metadata": {},
   "outputs": [],
   "source": [
    "# Load Census\n",
    "### STEP 1\n",
    "x_cols1 = x_cols\n",
    "y_cols1 = predecir1\n"
   ]
  },
  {
   "cell_type": "markdown",
   "metadata": {},
   "source": [
    "### Para cada anio. \n",
    "- Calcular Factores en Cross Validation y guardar."
   ]
  },
  {
   "cell_type": "code",
   "execution_count": null,
   "metadata": {},
   "outputs": [],
   "source": [
    "# if not exists, create /factors/"
   ]
  },
  {
   "cell_type": "code",
   "execution_count": 13,
   "metadata": {},
   "outputs": [
    {
     "name": "stdout",
     "output_type": "stream",
     "text": [
      "2021\n",
      "(357978, 56)\n",
      "1\n",
      "2\n"
     ]
    }
   ],
   "source": [
    "for yr in [str(s) for s in range(startyr, endyr)]:\n",
    "    # Load EPH\n",
    "    print(yr)\n",
    "    data = pd.read_csv('./../data/training/EPHARG_train_'+yr[2:]+'.csv')\n",
    "    print(data.shape)\n",
    "\n",
    "    # Computar factores\n",
    "    factors_mean = compute_factors_wCV(data, x_cols = x_cols1, y_cols = y_cols1)\n",
    "    del data\n",
    "\n",
    "    ## Guardar factores en archivo json\n",
    "    tag = 'clf1_'+yr+'_ARG'\n",
    "    factors_dict = dict()\n",
    "    factors_dict[tag] = factors_mean.unstack().to_json()\n",
    "\n",
    "    with open('./../data/training/factors/'+tag+'.json', 'w') as file: \n",
    "        json.dump(factors_dict, file)\n"
   ]
  },
  {
   "cell_type": "code",
   "execution_count": null,
   "metadata": {},
   "outputs": [],
   "source": [
    "# pd.DataFrame(proba_values[j]).sum()"
   ]
  },
  {
   "cell_type": "code",
   "execution_count": 14,
   "metadata": {},
   "outputs": [],
   "source": [
    "# sorted(y_[y_col].unique())"
   ]
  },
  {
   "cell_type": "code",
   "execution_count": 15,
   "metadata": {},
   "outputs": [],
   "source": [
    "# pd.DataFrame(proba_values[j], columns = sorted(y_[y_col].unique()))"
   ]
  },
  {
   "cell_type": "code",
   "execution_count": 16,
   "metadata": {},
   "outputs": [
    {
     "name": "stdout",
     "output_type": "stream",
     "text": [
      "[('radio_ref', 16764983), ('AGLO_rk', 14976), ('Reg_rk', 9948), ('RandomForestClassifier', 2008), ('ServiceAccountCredentials', 2008)]\n"
     ]
    }
   ],
   "source": [
    "print(sorted([(x, sys.getsizeof(globals().get(x))) for x in dir() if not x.startswith('_') and x not in sys.modules and x not in ipython_vars], key=lambda x: x[1], reverse=True)[:5])"
   ]
  },
  {
   "cell_type": "markdown",
   "metadata": {},
   "source": [
    "### Para cada anio. \n",
    "- Ajustar modelo y guardar"
   ]
  },
  {
   "cell_type": "code",
   "execution_count": 17,
   "metadata": {},
   "outputs": [
    {
     "name": "stdout",
     "output_type": "stream",
     "text": [
      "2021\n"
     ]
    }
   ],
   "source": [
    "# Entrenar modelo en train\n",
    "for yr in [str(s) for s in range(startyr, endyr)]:\n",
    "    # Load EPH\n",
    "    print(yr)\n",
    "    data = pd.read_csv('./../data/training/EPHARG_train_'+yr[2:]+'.csv')\n",
    "\n",
    "    filename = './../fitted_RF/clf1_'+yr+'_ARG'\n",
    "    clf, X_, y_ = fit_save_clf(data, x_cols = x_cols1, y_cols = y_cols1, filename = filename)\n",
    "\n",
    "    del data\n",
    "    \n",
    "    if yr == '2010':\n",
    "        \n",
    "        y_pred = y_.copy()\n",
    "        proba_values = clf.predict_proba(X_)\n",
    "\n",
    "        ## Leer factores de archivo json\n",
    "        tag = 'clf1_'+yr+'_ARG'\n",
    "        with open('./../data/training/factors/'+tag+'.json', 'r') as file:\n",
    "            info = json.load(file)\n",
    "        factors_mean = pd.DataFrame(json.loads(info[tag])).stack()\n",
    "        factors_mean.index.names = ['variable', 'valor']\n",
    "        factors_mean.index = factors_mean.index.set_levels(factors_mean.index.levels[1].astype(int), level='valor')\n",
    "\n",
    "        for j, y_col in enumerate(y_cols1):\n",
    "            y_probas = pd.DataFrame(proba_values[j], columns = sorted(y_[y_col].unique()))\n",
    "            y_pred[y_col] = (y_probas/factors_mean.loc[y_col]).idxmax(1)#.value_counts().sort_index()\n",
    "\n",
    "        for col in y_.columns:\n",
    "            print(col)\n",
    "            compute_upload_conf_matrix(y_true = y_, y_pred = y_pred, col = col)"
   ]
  },
  {
   "cell_type": "code",
   "execution_count": 18,
   "metadata": {},
   "outputs": [
    {
     "name": "stdout",
     "output_type": "stream",
     "text": [
      "[('radio_ref', 16764983), ('X_', 11932744), ('y_', 1432056), ('AGLO_rk', 14976), ('Reg_rk', 9948)]\n"
     ]
    }
   ],
   "source": [
    "print(sorted([(x, sys.getsizeof(globals().get(x))) for x in dir() if not x.startswith('_') and x not in sys.modules and x not in ipython_vars], key=lambda x: x[1], reverse=True)[:5])"
   ]
  },
  {
   "cell_type": "markdown",
   "metadata": {},
   "source": [
    "## Classification 2\n",
    "Columna INGRESO"
   ]
  },
  {
   "cell_type": "code",
   "execution_count": 19,
   "metadata": {},
   "outputs": [],
   "source": [
    "y_cols2 = predecir2"
   ]
  },
  {
   "cell_type": "markdown",
   "metadata": {},
   "source": [
    "### Para cada anio. \n",
    "- Calcular Factores en Cross Validation y guardar."
   ]
  },
  {
   "cell_type": "code",
   "execution_count": 20,
   "metadata": {},
   "outputs": [
    {
     "name": "stdout",
     "output_type": "stream",
     "text": [
      "2021\n",
      "(357978, 56)\n",
      "1\n",
      "2\n"
     ]
    }
   ],
   "source": [
    "for yr in [str(s) for s in range(startyr, endyr)]:\n",
    "    # Load EPH\n",
    "    print(yr)\n",
    "    data = pd.read_csv('./../data/training/EPHARG_train_'+yr[2:]+'.csv')\n",
    "    print(data.shape)\n",
    "\n",
    "    factors_mean = compute_factors_wCV(data, x_cols = x_cols2, y_cols = y_cols2)\n",
    "    del data\n",
    "\n",
    "    ## Guardar factores en archivo json\n",
    "    tag = 'clf2_'+yr+'_ARG'\n",
    "    factors_dict = dict()\n",
    "    factors_dict[tag] = factors_mean.unstack().to_json()\n",
    "\n",
    "    with open('./../data/training/factors/'+tag+'.json', 'w') as file: \n",
    "        json.dump(factors_dict, file)\n"
   ]
  },
  {
   "cell_type": "markdown",
   "metadata": {},
   "source": [
    "### Para cada anio. \n",
    "- Ajustar modelo y guardar"
   ]
  },
  {
   "cell_type": "code",
   "execution_count": 21,
   "metadata": {},
   "outputs": [
    {
     "name": "stdout",
     "output_type": "stream",
     "text": [
      "2018\n",
      "2019\n",
      "2020\n",
      "2021\n"
     ]
    }
   ],
   "source": [
    "# Entrenar modelo en train\n",
    "# for yr in [str(s) for s in range(startyr, endyr)]:\n",
    "\n",
    "for yr in [str(s) for s in range(2018, endyr)]:\n",
    "#     # Load EPH\n",
    "    print(yr)\n",
    "    data = pd.read_csv('./../data/training/EPHARG_train_'+yr[2:]+'.csv')\n",
    "\n",
    "    filename = './../fitted_RF/clf2_'+yr+'_ARG'\n",
    "    clf, X_, y_ = fit_save_clf(data, x_cols = x_cols2, y_cols = y_cols2, filename = filename)\n",
    "    \n",
    "    del data\n",
    "    if yr == '2010':\n",
    "        \n",
    "        y_pred = y_.copy()\n",
    "        proba_values = clf.predict_proba(X_)\n",
    "\n",
    "        ## Leer factores de archivo json\n",
    "        tag = 'clf2_'+yr+'_ARG'\n",
    "        with open('./../data/training/factors/'+tag+'.json', 'r') as file:\n",
    "            info = json.load(file)\n",
    "        factors_mean = pd.DataFrame(json.loads(info[tag])).stack()\n",
    "        factors_mean.index.names = ['variable', 'valor']\n",
    "        factors_mean.index = factors_mean.index.set_levels(factors_mean.index.levels[1].astype(int), level='valor')\n",
    "\n",
    "        for j, y_col in enumerate(y_cols2):\n",
    "            y_probas = pd.DataFrame(proba_values[j], columns = sorted(y_[y_col].unique()))\n",
    "            y_pred[y_col] = (y_probas/factors_mean.loc[y_col]).idxmax(1)#.value_counts().sort_index()\n",
    "\n",
    "        for col in y_.columns:\n",
    "            print(col)\n",
    "            compute_upload_conf_matrix(y_true = y_, y_pred = y_pred, col = col)"
   ]
  },
  {
   "cell_type": "markdown",
   "metadata": {},
   "source": [
    "## Classification 3\n",
    "Columnas ['PP07G1', 'PP07G2', 'PP07G3', 'PP07G4', 'PP07G_59', 'PP07H', 'PP07I', 'PP07J', 'PP07K']"
   ]
  },
  {
   "cell_type": "code",
   "execution_count": 22,
   "metadata": {},
   "outputs": [],
   "source": [
    "y_cols3 = predecir3"
   ]
  },
  {
   "cell_type": "markdown",
   "metadata": {},
   "source": [
    "### Para cada anio. \n",
    "- Calcular Factores en Cross Validation y guardar."
   ]
  },
  {
   "cell_type": "code",
   "execution_count": 23,
   "metadata": {},
   "outputs": [
    {
     "name": "stdout",
     "output_type": "stream",
     "text": [
      "2018\n",
      "(431568, 56)\n",
      "1\n",
      "2\n",
      "2019\n",
      "(444320, 56)\n",
      "1\n",
      "2\n",
      "2020\n",
      "(330618, 56)\n",
      "1\n",
      "2\n",
      "2021\n",
      "(357978, 56)\n",
      "1\n",
      "2\n"
     ]
    }
   ],
   "source": [
    "# for yr in [str(s) for s in range(startyr, endyr)]:\n",
    "for yr in [str(s) for s in range(2018, endyr)]:\n",
    "    # Load EPH\n",
    "    print(yr)\n",
    "    data = pd.read_csv('./../data/training/EPHARG_train_'+yr[2:]+'.csv')\n",
    "    print(data.shape)\n",
    "\n",
    "    factors_mean = compute_factors_wCV(data, x_cols = x_cols3, y_cols = y_cols3)\n",
    "    del data\n",
    "\n",
    "    ## Guardar factores en archivo json\n",
    "    tag = 'clf3_'+yr+'_ARG'\n",
    "    factors_dict = dict()\n",
    "    factors_dict[tag] = factors_mean.unstack().to_json()\n",
    "\n",
    "    with open('./../data/training/factors/'+tag+'.json', 'w') as file: \n",
    "        json.dump(factors_dict, file)\n"
   ]
  },
  {
   "cell_type": "markdown",
   "metadata": {},
   "source": [
    "### Para cada anio. \n",
    "- Ajustar modelo y guardar"
   ]
  },
  {
   "cell_type": "code",
   "execution_count": 24,
   "metadata": {},
   "outputs": [
    {
     "name": "stdout",
     "output_type": "stream",
     "text": [
      "2021\n"
     ]
    }
   ],
   "source": [
    "# Entrenar modelo en train\n",
    "for yr in [str(s) for s in range(startyr, endyr)]:\n",
    "#     # Load EPH\n",
    "    print(yr)\n",
    "    data = pd.read_csv('./../data/training/EPHARG_train_'+yr[2:]+'.csv')\n",
    "\n",
    "    filename = './../fitted_RF/clf3_'+yr+'_ARG'\n",
    "    clf, X_, y_ = fit_save_clf(data, x_cols = x_cols3, y_cols = y_cols3, filename = filename)\n",
    "    del data\n",
    "    \n",
    "    if yr == '2010':\n",
    "        \n",
    "        y_pred = y_.copy()\n",
    "        proba_values = clf.predict_proba(X_)\n",
    "\n",
    "        ## Leer factores de archivo json\n",
    "        tag = 'clf3_'+yr+'_ARG'\n",
    "        with open('./../data/training/factors/'+tag+'.json', 'r') as file:\n",
    "            info = json.load(file)\n",
    "        factors_mean = pd.DataFrame(json.loads(info[tag])).stack()\n",
    "        factors_mean.index.names = ['variable', 'valor']\n",
    "        factors_mean.index = factors_mean.index.set_levels(factors_mean.index.levels[1].astype(int), level='valor')\n",
    "\n",
    "        for j, y_col in enumerate(y_cols3):\n",
    "            y_probas = pd.DataFrame(proba_values[j], columns = sorted(y_[y_col].unique()))\n",
    "            y_pred[y_col] = (y_probas/factors_mean.loc[y_col]).idxmax(1)#.value_counts().sort_index()\n",
    "\n",
    "        for col in y_.columns:\n",
    "            print(col)\n",
    "            compute_upload_conf_matrix(y_true = y_, y_pred = y_pred, col = col)"
   ]
  },
  {
   "cell_type": "markdown",
   "metadata": {},
   "source": [
    "## Regresion\n",
    "Combinamos la info de los varios trimestres, deflactada."
   ]
  },
  {
   "cell_type": "code",
   "execution_count": 25,
   "metadata": {},
   "outputs": [],
   "source": [
    "# startyr = 2003\n",
    "# endyr = 2004"
   ]
  },
  {
   "cell_type": "code",
   "execution_count": null,
   "metadata": {},
   "outputs": [],
   "source": []
  },
  {
   "cell_type": "code",
   "execution_count": 26,
   "metadata": {},
   "outputs": [
    {
     "name": "stdout",
     "output_type": "stream",
     "text": [
      "2021\n",
      "2021-08-15\n",
      "2021-05-15\n",
      "2021-11-15\n",
      "2021-02-15\n",
      "[('train', 231124902), ('X', 24047024), ('X_train', 24047024), ('radio_ref', 16764983), ('X_', 15273872)]\n"
     ]
    }
   ],
   "source": [
    "for yr in [str(s) for s in range(startyr, endyr)]:\n",
    "    print(yr)\n",
    "    train = pd.read_csv('./../data/training/EPHARG_train_'+yr[2:]+'.csv')\n",
    "\n",
    "    train[columnas_pesos] = np.log10(train[columnas_pesos].clip(-.9) + 1)\n",
    "\n",
    "    for q in train.Q.unique():\n",
    "        print(q)\n",
    "        ### STEP 3 (Regression)\n",
    "        train_q = train.loc[train.Q == q]\n",
    "\n",
    "        X = train_q[x_cols4]#.sample(frac = 1) #PBA_train_reg\n",
    "        y = train_q[y_cols4].loc[X.index].fillna(0) #PBA_train_reg\n",
    "\n",
    "        X_train, X_test, y_train, y_test = train_test_split(X, y, test_size=0.1)\n",
    "        X = X_train; y = y_train\n",
    "\n",
    "        forest = RandomForestRegressor(n_estimators=1, max_depth = 40, n_jobs = -1)\n",
    "        clf4 = forest.fit(X.values, y.values)\n",
    "        \n",
    "        # save the model to disk\n",
    "        filename = './../fitted_RF/clf4_'+q+'_ARG'\n",
    "#     pickle.dump(forest, open(filename+'.sav', 'wb'))\n",
    "        joblib.dump(forest, filename, compress=3)\n",
    "    \n",
    "        del clf4;\n",
    "        del train_q;\n",
    "    print(sorted([(x, sys.getsizeof(globals().get(x))) for x in dir() if not x.startswith('_') and x not in sys.modules and x not in ipython_vars], key=lambda x: x[1], reverse=True)[:5])\n",
    "    del train; del X # liberar memoria eliminando los dataframes mas pesados"
   ]
  },
  {
   "cell_type": "code",
   "execution_count": null,
   "metadata": {},
   "outputs": [],
   "source": []
  },
  {
   "cell_type": "code",
   "execution_count": null,
   "metadata": {},
   "outputs": [],
   "source": []
  },
  {
   "cell_type": "code",
   "execution_count": null,
   "metadata": {},
   "outputs": [],
   "source": []
  },
  {
   "cell_type": "code",
   "execution_count": null,
   "metadata": {},
   "outputs": [],
   "source": []
  }
 ],
 "metadata": {
  "kernelspec": {
   "display_name": "Python 3",
   "language": "python",
   "name": "python3"
  },
  "language_info": {
   "codemirror_mode": {
    "name": "ipython",
    "version": 3
   },
   "file_extension": ".py",
   "mimetype": "text/x-python",
   "name": "python",
   "nbconvert_exporter": "python",
   "pygments_lexer": "ipython3",
   "version": "3.8.5"
  }
 },
 "nbformat": 4,
 "nbformat_minor": 2
}
