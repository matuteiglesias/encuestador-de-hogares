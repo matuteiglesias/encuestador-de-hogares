{
 "cells": [
  {
   "attachments": {},
   "cell_type": "markdown",
   "metadata": {},
   "source": [
    "# Entrenamiento de modelos encuestadores de hogares EPH"
   ]
  },
  {
   "cell_type": "code",
   "execution_count": 12,
   "metadata": {},
   "outputs": [],
   "source": [
    "# Convertir a script de python con nbconvert, \n",
    "# removiendo las celdas que estan pensadas para la notebook interactiva, no para el script.\n",
    "# De esta forma no vamos a incluir las celdas de input, \n",
    "# \n",
    "\n",
    "# jupyter nbconvert --to python --TagRemovePreprocessor.remove_cell_tags \"interactive-only\"  02\\ -\\ Train\\ ML\\ algos\\ on\\ EPH.ipynb\n",
    "\n",
    "## Funciona en las versiones mas nuevas de jupyter, en caso que nbconvert de error, verificar:\n",
    "# jupyter --version\n",
    "\n",
    "## Correr:\n",
    "# conda update jupyter\n",
    "\n",
    "# Y volver a intentar."
   ]
  },
  {
   "cell_type": "code",
   "execution_count": 13,
   "metadata": {},
   "outputs": [
    {
     "name": "stdout",
     "output_type": "stream",
     "text": [
      "scikit-learn version: 1.3.0\n"
     ]
    }
   ],
   "source": [
    "import sklearn\n",
    "\n",
    "print(\"scikit-learn version:\", sklearn.__version__)"
   ]
  },
  {
   "attachments": {},
   "cell_type": "markdown",
   "metadata": {},
   "source": [
    "### Seteo de Parametros"
   ]
  },
  {
   "cell_type": "code",
   "execution_count": 14,
   "metadata": {},
   "outputs": [
    {
     "name": "stdout",
     "output_type": "stream",
     "text": [
      "ARGUMENTOS INTRODUCIDOS POR EL USUARIO\n",
      "Start year:  2015\n",
      "End year:  2016\n",
      "Overwrite:  True\n"
     ]
    }
   ],
   "source": [
    "from IPython import get_ipython\n",
    "\n",
    "if get_ipython() is None:\n",
    "    print('ARGUMENTOS TOMADOS DE CLI')\n",
    "    import argparse\n",
    "\n",
    "    parser = argparse.ArgumentParser(description='A script to process data for a range of years')\n",
    "\n",
    "    parser.add_argument('-y','--years', nargs='+', help='Set the range of years to process data for. Default is the current year and the next year', required=False, type=int, default=[2022, 2023])\n",
    "    parser.add_argument('-ow','--overwrite', nargs=1, required=False, default= True, help='Flag to specify if previous data should be overwritten. Default is True')\n",
    "\n",
    "    args = parser.parse_args()\n",
    "\n",
    "    overwrite = args.overwrite\n",
    "    startyr = args.years[0]\n",
    "    endyr = args.years[1]\n",
    "    \n",
    "else:\n",
    "    print('ARGUMENTOS INTRODUCIDOS POR EL USUARIO')\n",
    "    startyr = input(\"Enter the start year [default: 2022]: \") or 2022\n",
    "    endyr = input(\"Enter the end year [default: 2023]: \") or 2023\n",
    "    overwrite = input(\"Do you want to overwrite previous data? [y/n] [default: y]: \") or \"y\"\n",
    "\n",
    "    if overwrite.lower() == \"y\":\n",
    "        overwrite = True\n",
    "    else:\n",
    "        overwrite = False\n",
    "\n",
    "    #Convert the input to integers\n",
    "    startyr = int(startyr)\n",
    "    endyr = int(endyr)\n",
    "\n",
    "    print(\"Start year: \", startyr)\n",
    "    print(\"End year: \", endyr)\n",
    "    print(\"Overwrite: \", overwrite)\n"
   ]
  },
  {
   "attachments": {},
   "cell_type": "markdown",
   "metadata": {},
   "source": [
    "# Training"
   ]
  },
  {
   "cell_type": "code",
   "execution_count": 15,
   "metadata": {},
   "outputs": [],
   "source": [
    "# Column names\n",
    "y_cols = ['CAT_OCUP', 'P47T', 'PP10E', 'PP10D', 'PP07K', 'PP07I', 'V3_M', 'PP07G4', 'CH16', 'T_VI', \n",
    "          'V12_M', 'TOT_P12', 'PP07G3', 'V5_M', 'PP07H', 'V2_M', 'PP10C', \n",
    "          'PP08D1', 'PP07J', 'CAT_INAC', 'CH07', 'CH08', 'P21', 'PP07G1', 'PP07G_59', 'PP07G2']\n",
    "\n",
    "x_cols1 = ['IX_TOT', 'P02', 'P03', 'AGLO_rk', 'Reg_rk', 'V01', 'H05', 'H06',\n",
    "       'H07', 'H08', 'H09', 'H10', 'H11', 'H12', 'H16', 'H15', 'PROP', 'H14',\n",
    "       'H13', 'P07', 'P08', 'P09', 'P10', 'P05', 'CONDACT']\n",
    "\n",
    "predecir1 = ['CAT_OCUP', 'CAT_INAC', 'CH07']\n",
    "\n",
    "x_cols2 = x_cols1 + predecir1\n",
    "predecir2 = ['INGRESO', 'INGRESO_NLB', 'INGRESO_JUB', 'INGRESO_SBS']\n",
    "\n",
    "x_cols3 = x_cols2 + predecir2\n",
    "# La seccion PP07G pregunta si el trabajo es en blanco y que beneficios tiene. Puede ayudar a la regresion para ingresos.\n",
    "# predecir3 = ['PP07G1', 'PP07G2', 'PP07G3', 'PP07G4', 'PP07G_59', 'PP07H', 'PP07I', 'PP07J', 'PP07K']\n",
    "predecir3 = ['PP07G1','PP07G_59', 'PP07I', 'PP07J', 'PP07K']\n",
    "\n",
    "# Columnas de ingresos. Necesitan una regresion...\n",
    "columnas_pesos = [u'P21', u'P47T', u'PP08D1', u'TOT_P12', u'T_VI', u'V12_M', u'V2_M', u'V3_M', u'V5_M']\n",
    "\n",
    "x_cols4 = x_cols3 + predecir3\n",
    "# Columnas de ingresos. Necesitan una regresion...\n",
    "predecir4 = columnas_pesos\n",
    "y_cols4 = predecir4"
   ]
  },
  {
   "cell_type": "markdown",
   "metadata": {},
   "source": [
    "## Funciones clasificador y regresor"
   ]
  },
  {
   "cell_type": "code",
   "execution_count": 16,
   "metadata": {},
   "outputs": [],
   "source": [
    "### Save models at: (ocupan bastante memoria en disco)\n",
    "# models_path = '/media/miglesia/Elements/suite/encuestador-de-hogares'\n",
    "models_path = './..'\n"
   ]
  },
  {
   "cell_type": "code",
   "execution_count": 17,
   "metadata": {},
   "outputs": [],
   "source": [
    "# import sys\n",
    "# ipython_vars = ['In', 'Out', 'exit', 'quit', 'get_ipython', 'ipython_vars']"
   ]
  },
  {
   "cell_type": "code",
   "execution_count": 18,
   "metadata": {},
   "outputs": [],
   "source": [
    "# Si el modulo sklearn no esta instalado, lo instalo\n",
    "try:\n",
    "    import sklearn\n",
    "except ImportError:\n",
    "    !pip install sklearn\n",
    "    import sklearn"
   ]
  },
  {
   "cell_type": "code",
   "execution_count": 19,
   "metadata": {},
   "outputs": [],
   "source": [
    "from sklearn.model_selection import train_test_split # importamos las funciones para dividir los datos\n",
    "from sklearn.ensemble import RandomForestClassifier, RandomForestRegressor # importamos los modelos de random forest\n",
    "import os # para trabajar con el sistema operativo\n",
    "import joblib # para guardar el modelo entrenado\n",
    "\n",
    "def fit_model(train_data, x_cols, y_cols, out_filename, model):\n",
    "    \"\"\"\n",
    "    Entrena un modelo de random forest.\n",
    "    train_data: dataframe con los datos de entrenamiento\n",
    "    x_cols: lista con los nombres de las columnas de entrada del modelo\n",
    "    y_cols: lista con los nombres de las columnas de salida del modelo\n",
    "    out_filename: string con la ruta y nombre del archivo donde se guardará el modelo\n",
    "    model: instancia del modelo a entrenar\n",
    "    \"\"\"\n",
    "    X = train_data[x_cols] # separamos las columnas de entrada\n",
    "    y = train_data[y_cols] # separamos las columnas de salida\n",
    "    \n",
    "    X, X_test, y, y_test = train_test_split(X, y, test_size=0.1) # dividimos los datos en entrenamiento y test\n",
    "    \n",
    "    clf = model.fit(X.values, y.values) # entrenamos el modelo\n",
    "    \n",
    "    # guardamos el modelo en disco\n",
    "    if not os.path.exists(models_path + '/fitted_RF/'):\n",
    "        os.makedirs(models_path + '/fitted_RF/')\n",
    "    joblib.dump(model, out_filename, compress=3)\n",
    "    print('saved model at: ' + out_filename)\n",
    "\n",
    "#     print(sorted([(x, sys.getsizeof(globals().get(x))) for x in dir() if not x.startswith('_') and x not in sys.modules and x not in ipython_vars], key=lambda x: x[1], reverse=True)[:5])\n",
    "    del clf\n",
    "    del X; del y # liberar memoria eliminando los dataframes mas pesados"
   ]
  },
  {
   "cell_type": "markdown",
   "metadata": {},
   "source": [
    "## Loop principal. Entrenar y guardar modelos"
   ]
  },
  {
   "cell_type": "code",
   "execution_count": 20,
   "metadata": {},
   "outputs": [],
   "source": [
    "import pandas as pd\n",
    "from numpy import log10"
   ]
  },
  {
   "cell_type": "code",
   "execution_count": 21,
   "metadata": {
    "scrolled": false
   },
   "outputs": [
    {
     "name": "stdout",
     "output_type": "stream",
     "text": [
      "2015\n",
      "saved model at: ./../fitted_RF/clf1_2015_ARG\n",
      "saved model at: ./../fitted_RF/clf2_2015_ARG\n",
      "saved model at: ./../fitted_RF/clf3_2015_ARG\n",
      "2015-02-15\n",
      "saved model at: ./../fitted_RF/clf4_2015-02-15_ARG\n",
      "2015-05-15\n",
      "saved model at: ./../fitted_RF/clf4_2015-05-15_ARG\n"
     ]
    }
   ],
   "source": [
    "for yr in [str(s) for s in range(startyr, endyr)]:\n",
    "    print(yr)\n",
    "    train_data = pd.read_csv('./../data/training/EPHARG_train_'+yr[2:]+'.csv')\n",
    "    \n",
    "    ## ETAPA 1:\n",
    "    out = models_path + '/fitted_RF/clf1_'+yr+'_ARG'\n",
    "    if (not os.path.exists(out)) or (overwrite):\n",
    "        fit_model(train_data, x_cols = x_cols1, y_cols = predecir1, out_filename = out,\n",
    "                 model = RandomForestClassifier(n_estimators=100, max_depth = 15, n_jobs = -1))\n",
    "    \n",
    "    ## ETAPA 2:\n",
    "    out = models_path + '/fitted_RF/clf2_'+yr+'_ARG'\n",
    "    if (not os.path.exists(out)) or (overwrite):\n",
    "        fit_model(train_data, x_cols = x_cols2, y_cols = predecir2, out_filename = out,\n",
    "                 model = RandomForestClassifier(n_estimators=100, max_depth = 15, n_jobs = -1))\n",
    "    \n",
    "    ## ETAPA 3:\n",
    "    out = models_path + '/fitted_RF/clf3_'+yr+'_ARG'\n",
    "    if (not os.path.exists(out)) or (overwrite):\n",
    "        fit_model(train_data, x_cols = x_cols3, y_cols = predecir3, out_filename = out,\n",
    "                 model = RandomForestClassifier(n_estimators=100, max_depth = 15, n_jobs = -1))\n",
    "    \n",
    "    ## ETAPA 4 (Regresion)\n",
    "    ## Tomar log de las columnas en pesos.\n",
    "    train_data[columnas_pesos] = log10(train_data[columnas_pesos].clip(-.9) + 1)\n",
    "\n",
    "    ## Entrenar modelo, para cada trimestre\n",
    "    for q in train_data.Q.unique():\n",
    "        print(q)\n",
    "        out = models_path + '/fitted_RF/clf4_'+q+'_ARG'\n",
    "        if (not os.path.exists(out)) or (overwrite):\n",
    "            train_q = train_data.loc[train_data.Q == q]\n",
    "            fit_model(train_q, x_cols = x_cols4, y_cols = y_cols4, out_filename = out,\n",
    "                     model = RandomForestRegressor(n_estimators=1, max_depth = 20, n_jobs = -1))\n",
    "            del train_q;\n",
    "\n",
    "    del train_data; "
   ]
  },
  {
   "cell_type": "code",
   "execution_count": null,
   "metadata": {},
   "outputs": [],
   "source": []
  }
 ],
 "metadata": {
  "kernelspec": {
   "display_name": "Python 3",
   "language": "python",
   "name": "python3"
  },
  "language_info": {
   "codemirror_mode": {
    "name": "ipython",
    "version": 3
   },
   "file_extension": ".py",
   "mimetype": "text/x-python",
   "name": "python",
   "nbconvert_exporter": "python",
   "pygments_lexer": "ipython3",
   "version": "3.11.3"
  },
  "vscode": {
   "interpreter": {
    "hash": "916dbcbb3f70747c44a77c7bcd40155683ae19c65e1c03b4aa3499c5328201f1"
   }
  }
 },
 "nbformat": 4,
 "nbformat_minor": 2
}
