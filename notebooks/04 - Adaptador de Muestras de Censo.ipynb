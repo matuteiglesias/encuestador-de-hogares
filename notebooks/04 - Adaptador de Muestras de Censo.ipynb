{
 "cells": [
  {
   "attachments": {},
   "cell_type": "markdown",
   "metadata": {},
   "source": [
    "### Funciones adaptador de BD Censo a Modelos EPH"
   ]
  },
  {
   "cell_type": "code",
   "execution_count": 4,
   "metadata": {},
   "outputs": [],
   "source": [
    "import pandas as pd\n",
    "\n",
    "# Funcion para adaptar las respuestas del censo a las de la EPH\n",
    "def adapta_rtas_a_EPH(table):\n",
    "    \"\"\"\n",
    "    table: dataframe con las respuestas del censo\n",
    "    \"\"\"\n",
    "\n",
    "    # Adaptamos las categorias de respuestas para que iguales las de la EPH\n",
    "    ## VIVIENDA\n",
    "    table['V01'] = table['V01'].map({1:1, 2:6, 3:6, 4:2, 5:3, 6:4, 7:5, 8:6})\n",
    "    ## HOGAR\n",
    "    table['H06'] = table['H06'].map({1:1, 2:2, 3:3, 4:4, 5:5, 6:6, 7:7, 8:9})\n",
    "    table['H09'] = table['H09'].map({1:1, 2:2, 3:3, 4:4, 5:4, 6:4})\n",
    "    table['H16'] = table['H16'].clip(0, 9)\n",
    "    table['H14'] = table['H14'].map({1:1, 2:4, 3:2, 4:2, 5:4, 6:3, 7:4, 8:9})\n",
    "    table['H13'] = table['H13'].map({1:1, 2:2, 4:0})\n",
    "    # PERSONA\n",
    "    table['P07'] = table['P07'].map({1:1, 2:2, 0:2})\n",
    "\n",
    "    return table\n",
    "\n",
    "# Informacion accesoria \n",
    "# Departamento, Regiones.\n",
    "\n",
    "dpto_region = pd.read_csv('./../data/info/DPTO_PROV_Region.csv')\n",
    "\n",
    "# Ranking de Aglomerados y Regiones\n",
    "AGLO_rk = pd.read_csv('./../../encuestador-de-hogares/data/info/AGLO_rk')\n",
    "rk_table = AGLO_rk.set_index(['ANO4', 'AGLOMERADO']).unstack()\n",
    "AGLO_rk = rk_table.fillna(rk_table.mean()).stack().reset_index()\n",
    "\n",
    "Reg_rk = pd.read_csv('./../../encuestador-de-hogares/data/info/Reg_rk')\n",
    "\n",
    "# Funcion para adaptar las muestras de censo a la EPH\n",
    "def adapta_muestras_a_EPH(table):\n",
    "    \"\"\"\n",
    "    table: dataframe con las respuestas del censo\n",
    "    \"\"\"\n",
    "    # Adaptamos las categorias de respuestas para que sean iguales las de la EPH\n",
    "    table = adapta_rtas_a_EPH(table)\n",
    "\n",
    "    ## Agregar Region\n",
    "    table = table.merge(dpto_region[['DPTO', 'Region']])\n",
    "\n",
    "    ## Agregar ranking de Region y Aglo\n",
    "    table = table.merge(AGLO_rk[['AGLOMERADO', 'ANO4', 'AGLO_rk']]).merge(Reg_rk[['Region', 'ANO4', 'Reg_rk']])\n",
    "\n",
    "    return table"
   ]
  },
  {
   "cell_type": "markdown",
   "metadata": {},
   "source": [
    "### Lista de archivos extraidos de BD Censo 2010"
   ]
  },
  {
   "cell_type": "code",
   "execution_count": 5,
   "metadata": {},
   "outputs": [
    {
     "name": "stdout",
     "output_type": "stream",
     "text": [
      "['./../../samplerCensoARG/data/censo_samples/table_f0.005_2003_ARGb.csv', './../../samplerCensoARG/data/censo_samples/table_f0.005_2004_ARGb.csv', './../../samplerCensoARG/data/censo_samples/table_f0.005_2005_ARGb.csv', './../../samplerCensoARG/data/censo_samples/table_f0.005_2006_ARGb.csv', './../../samplerCensoARG/data/censo_samples/table_f0.005_2007_ARGb.csv', './../../samplerCensoARG/data/censo_samples/table_f0.005_2008_ARGb.csv', './../../samplerCensoARG/data/censo_samples/table_f0.005_2009_ARGb.csv', './../../samplerCensoARG/data/censo_samples/table_f0.005_2010_ARGb.csv', './../../samplerCensoARG/data/censo_samples/table_f0.005_2011_ARGb.csv', './../../samplerCensoARG/data/censo_samples/table_f0.005_2012_ARGb.csv', './../../samplerCensoARG/data/censo_samples/table_f0.005_2013_ARGb.csv', './../../samplerCensoARG/data/censo_samples/table_f0.005_2014_ARGb.csv', './../../samplerCensoARG/data/censo_samples/table_f0.005_2015_ARGb.csv', './../../samplerCensoARG/data/censo_samples/table_f0.005_2016_ARGb.csv', './../../samplerCensoARG/data/censo_samples/table_f0.005_2017_ARGb.csv', './../../samplerCensoARG/data/censo_samples/table_f0.005_2018_ARGb.csv', './../../samplerCensoARG/data/censo_samples/table_f0.005_2019_ARGb.csv', './../../samplerCensoARG/data/censo_samples/table_f0.005_2020_ARGb.csv', './../../samplerCensoARG/data/censo_samples/table_f0.005_2021_ARGb.csv', './../../samplerCensoARG/data/censo_samples/table_f0.005_2022_ARGb.csv', './../../samplerCensoARG/data/censo_samples/table_f0.01_2003_ARGb.csv', './../../samplerCensoARG/data/censo_samples/table_f0.01_2004_ARGb.csv', './../../samplerCensoARG/data/censo_samples/table_f0.01_2005_ARGb.csv', './../../samplerCensoARG/data/censo_samples/table_f0.01_2006_ARGb.csv', './../../samplerCensoARG/data/censo_samples/table_f0.01_2007_ARGb.csv', './../../samplerCensoARG/data/censo_samples/table_f0.01_2008_ARGb.csv', './../../samplerCensoARG/data/censo_samples/table_f0.01_2009_ARGb.csv', './../../samplerCensoARG/data/censo_samples/table_f0.01_2010_ARGb.csv', './../../samplerCensoARG/data/censo_samples/table_f0.01_2011_ARGb.csv', './../../samplerCensoARG/data/censo_samples/table_f0.01_2012_ARGb.csv', './../../samplerCensoARG/data/censo_samples/table_f0.01_2013_ARGb.csv', './../../samplerCensoARG/data/censo_samples/table_f0.01_2014_ARGb.csv', './../../samplerCensoARG/data/censo_samples/table_f0.01_2015_ARGb.csv', './../../samplerCensoARG/data/censo_samples/table_f0.01_2016_ARGb.csv', './../../samplerCensoARG/data/censo_samples/table_f0.01_2017_ARGb.csv', './../../samplerCensoARG/data/censo_samples/table_f0.01_2018_ARGb.csv', './../../samplerCensoARG/data/censo_samples/table_f0.01_2019_ARGb.csv', './../../samplerCensoARG/data/censo_samples/table_f0.01_2020_ARGb.csv', './../../samplerCensoARG/data/censo_samples/table_f0.01_2021_ARGb.csv', './../../samplerCensoARG/data/censo_samples/table_f0.01_2022_ARGb.csv', './../../samplerCensoARG/data/censo_samples/table_f0.02_2003_ARGb.csv', './../../samplerCensoARG/data/censo_samples/table_f0.02_2004_ARGb.csv', './../../samplerCensoARG/data/censo_samples/table_f0.02_2005_ARGb.csv', './../../samplerCensoARG/data/censo_samples/table_f0.02_2006_ARGb.csv', './../../samplerCensoARG/data/censo_samples/table_f0.02_2007_ARGb.csv', './../../samplerCensoARG/data/censo_samples/table_f0.02_2008_ARGb.csv', './../../samplerCensoARG/data/censo_samples/table_f0.02_2009_ARGb.csv', './../../samplerCensoARG/data/censo_samples/table_f0.02_2010_ARGb.csv', './../../samplerCensoARG/data/censo_samples/table_f0.02_2011_ARGb.csv', './../../samplerCensoARG/data/censo_samples/table_f0.02_2012_ARGb.csv', './../../samplerCensoARG/data/censo_samples/table_f0.02_2013_ARGb.csv', './../../samplerCensoARG/data/censo_samples/table_f0.02_2014_ARGb.csv', './../../samplerCensoARG/data/censo_samples/table_f0.02_2015_ARGb.csv', './../../samplerCensoARG/data/censo_samples/table_f0.02_2016_ARGb.csv', './../../samplerCensoARG/data/censo_samples/table_f0.02_2017_ARGb.csv', './../../samplerCensoARG/data/censo_samples/table_f0.02_2018_ARGb.csv', './../../samplerCensoARG/data/censo_samples/table_f0.02_2019_ARGb.csv', './../../samplerCensoARG/data/censo_samples/table_f0.02_2020_ARGb.csv', './../../samplerCensoARG/data/censo_samples/table_f0.02_2021_ARGb.csv', './../../samplerCensoARG/data/censo_samples/table_f0.02_2022_ARGb.csv']\n"
     ]
    }
   ],
   "source": [
    "import glob\n",
    "\n",
    "path = './../../samplerCensoARG/data/censo_samples'\n",
    "# frac = 0.005\n",
    "# files = glob.glob(path + '/*table_f'+str(frac)+'*_ARGa.csv')\n",
    "files = glob.glob(path + '/*table_f*_ARGb.csv')\n",
    "files = sorted(files)\n",
    "print(files)\n"
   ]
  },
  {
   "cell_type": "markdown",
   "metadata": {},
   "source": [
    "### Guardar muestras de Censo Adaptadas a EPH"
   ]
  },
  {
   "cell_type": "code",
   "execution_count": 6,
   "metadata": {},
   "outputs": [
    {
     "name": "stdout",
     "output_type": "stream",
     "text": [
      "Table saved at /media/matias/Elements/suite/yr_samples/table_f0.005_2003_ARGb_EPHedit.csv with size 24.9 MB.\n",
      "Table saved at /media/matias/Elements/suite/yr_samples/table_f0.005_2004_ARGb_EPHedit.csv with size 25.4 MB.\n",
      "Table saved at /media/matias/Elements/suite/yr_samples/table_f0.005_2005_ARGb_EPHedit.csv with size 25.5 MB.\n",
      "Table saved at /media/matias/Elements/suite/yr_samples/table_f0.005_2006_ARGb_EPHedit.csv with size 26.1 MB.\n",
      "Table saved at /media/matias/Elements/suite/yr_samples/table_f0.005_2007_ARGb_EPHedit.csv with size 26.6 MB.\n",
      "Table saved at /media/matias/Elements/suite/yr_samples/table_f0.005_2008_ARGb_EPHedit.csv with size 26.7 MB.\n",
      "Table saved at /media/matias/Elements/suite/yr_samples/table_f0.005_2009_ARGb_EPHedit.csv with size 26.9 MB.\n",
      "Table saved at /media/matias/Elements/suite/yr_samples/table_f0.005_2010_ARGb_EPHedit.csv with size 27.4 MB.\n",
      "Table saved at /media/matias/Elements/suite/yr_samples/table_f0.005_2011_ARGb_EPHedit.csv with size 27.8 MB.\n",
      "Table saved at /media/matias/Elements/suite/yr_samples/table_f0.005_2012_ARGb_EPHedit.csv with size 27.9 MB.\n",
      "Table saved at /media/matias/Elements/suite/yr_samples/table_f0.005_2013_ARGb_EPHedit.csv with size 28.4 MB.\n",
      "Table saved at /media/matias/Elements/suite/yr_samples/table_f0.005_2014_ARGb_EPHedit.csv with size 28.6 MB.\n",
      "Table saved at /media/matias/Elements/suite/yr_samples/table_f0.005_2015_ARGb_EPHedit.csv with size 28.9 MB.\n",
      "Table saved at /media/matias/Elements/suite/yr_samples/table_f0.005_2016_ARGb_EPHedit.csv with size 29.5 MB.\n",
      "Table saved at /media/matias/Elements/suite/yr_samples/table_f0.005_2017_ARGb_EPHedit.csv with size 29.7 MB.\n",
      "Table saved at /media/matias/Elements/suite/yr_samples/table_f0.005_2018_ARGb_EPHedit.csv with size 29.9 MB.\n",
      "Table saved at /media/matias/Elements/suite/yr_samples/table_f0.005_2019_ARGb_EPHedit.csv with size 30.1 MB.\n",
      "Table saved at /media/matias/Elements/suite/yr_samples/table_f0.005_2020_ARGb_EPHedit.csv with size 30.3 MB.\n",
      "Table saved at /media/matias/Elements/suite/yr_samples/table_f0.005_2021_ARGb_EPHedit.csv with size 30.6 MB.\n",
      "Table saved at /media/matias/Elements/suite/yr_samples/table_f0.005_2022_ARGb_EPHedit.csv with size 30.9 MB.\n",
      "Table saved at /media/matias/Elements/suite/yr_samples/table_f0.01_2003_ARGb_EPHedit.csv with size 49.8 MB.\n",
      "Table saved at /media/matias/Elements/suite/yr_samples/table_f0.01_2004_ARGb_EPHedit.csv with size 50.4 MB.\n",
      "Table saved at /media/matias/Elements/suite/yr_samples/table_f0.01_2005_ARGb_EPHedit.csv with size 51.4 MB.\n",
      "Table saved at /media/matias/Elements/suite/yr_samples/table_f0.01_2006_ARGb_EPHedit.csv with size 52.1 MB.\n",
      "Table saved at /media/matias/Elements/suite/yr_samples/table_f0.01_2007_ARGb_EPHedit.csv with size 52.8 MB.\n",
      "Table saved at /media/matias/Elements/suite/yr_samples/table_f0.01_2008_ARGb_EPHedit.csv with size 53.4 MB.\n",
      "Table saved at /media/matias/Elements/suite/yr_samples/table_f0.01_2009_ARGb_EPHedit.csv with size 54.0 MB.\n",
      "Table saved at /media/matias/Elements/suite/yr_samples/table_f0.01_2010_ARGb_EPHedit.csv with size 54.9 MB.\n",
      "Table saved at /media/matias/Elements/suite/yr_samples/table_f0.01_2011_ARGb_EPHedit.csv with size 55.4 MB.\n",
      "Table saved at /media/matias/Elements/suite/yr_samples/table_f0.01_2012_ARGb_EPHedit.csv with size 56.1 MB.\n",
      "Table saved at /media/matias/Elements/suite/yr_samples/table_f0.01_2013_ARGb_EPHedit.csv with size 56.9 MB.\n",
      "Table saved at /media/matias/Elements/suite/yr_samples/table_f0.01_2014_ARGb_EPHedit.csv with size 57.3 MB.\n",
      "Table saved at /media/matias/Elements/suite/yr_samples/table_f0.01_2015_ARGb_EPHedit.csv with size 57.8 MB.\n",
      "Table saved at /media/matias/Elements/suite/yr_samples/table_f0.01_2016_ARGb_EPHedit.csv with size 58.6 MB.\n",
      "Table saved at /media/matias/Elements/suite/yr_samples/table_f0.01_2017_ARGb_EPHedit.csv with size 59.0 MB.\n",
      "Table saved at /media/matias/Elements/suite/yr_samples/table_f0.01_2018_ARGb_EPHedit.csv with size 60.1 MB.\n",
      "Table saved at /media/matias/Elements/suite/yr_samples/table_f0.01_2019_ARGb_EPHedit.csv with size 60.5 MB.\n",
      "Table saved at /media/matias/Elements/suite/yr_samples/table_f0.01_2020_ARGb_EPHedit.csv with size 61.1 MB.\n",
      "Table saved at /media/matias/Elements/suite/yr_samples/table_f0.01_2021_ARGb_EPHedit.csv with size 61.8 MB.\n",
      "Table saved at /media/matias/Elements/suite/yr_samples/table_f0.01_2022_ARGb_EPHedit.csv with size 62.1 MB.\n",
      "Table saved at /media/matias/Elements/suite/yr_samples/table_f0.02_2003_ARGb_EPHedit.csv with size 99.3 MB.\n",
      "Table saved at /media/matias/Elements/suite/yr_samples/table_f0.02_2004_ARGb_EPHedit.csv with size 100.7 MB.\n",
      "Table saved at /media/matias/Elements/suite/yr_samples/table_f0.02_2005_ARGb_EPHedit.csv with size 101.9 MB.\n",
      "Table saved at /media/matias/Elements/suite/yr_samples/table_f0.02_2006_ARGb_EPHedit.csv with size 103.9 MB.\n",
      "Table saved at /media/matias/Elements/suite/yr_samples/table_f0.02_2007_ARGb_EPHedit.csv with size 105.5 MB.\n",
      "Table saved at /media/matias/Elements/suite/yr_samples/table_f0.02_2008_ARGb_EPHedit.csv with size 106.7 MB.\n",
      "Table saved at /media/matias/Elements/suite/yr_samples/table_f0.02_2009_ARGb_EPHedit.csv with size 108.0 MB.\n",
      "Table saved at /media/matias/Elements/suite/yr_samples/table_f0.02_2010_ARGb_EPHedit.csv with size 109.4 MB.\n",
      "Table saved at /media/matias/Elements/suite/yr_samples/table_f0.02_2011_ARGb_EPHedit.csv with size 110.6 MB.\n",
      "Table saved at /media/matias/Elements/suite/yr_samples/table_f0.02_2012_ARGb_EPHedit.csv with size 112.3 MB.\n",
      "Table saved at /media/matias/Elements/suite/yr_samples/table_f0.02_2013_ARGb_EPHedit.csv with size 113.2 MB.\n",
      "Table saved at /media/matias/Elements/suite/yr_samples/table_f0.02_2014_ARGb_EPHedit.csv with size 114.5 MB.\n",
      "Table saved at /media/matias/Elements/suite/yr_samples/table_f0.02_2015_ARGb_EPHedit.csv with size 116.0 MB.\n",
      "Table saved at /media/matias/Elements/suite/yr_samples/table_f0.02_2016_ARGb_EPHedit.csv with size 117.1 MB.\n",
      "Table saved at /media/matias/Elements/suite/yr_samples/table_f0.02_2017_ARGb_EPHedit.csv with size 118.1 MB.\n",
      "Table saved at /media/matias/Elements/suite/yr_samples/table_f0.02_2018_ARGb_EPHedit.csv with size 119.5 MB.\n",
      "Table saved at /media/matias/Elements/suite/yr_samples/table_f0.02_2019_ARGb_EPHedit.csv with size 120.5 MB.\n",
      "Table saved at /media/matias/Elements/suite/yr_samples/table_f0.02_2020_ARGb_EPHedit.csv with size 122.1 MB.\n",
      "Table saved at /media/matias/Elements/suite/yr_samples/table_f0.02_2021_ARGb_EPHedit.csv with size 122.9 MB.\n",
      "Table saved at /media/matias/Elements/suite/yr_samples/table_f0.02_2022_ARGb_EPHedit.csv with size 123.9 MB.\n"
     ]
    }
   ],
   "source": [
    "from pathlib import Path\n",
    "# pip install humanize\n",
    "import humanize\n",
    "\n",
    "# Path a donde guardar las tablas de sampleo de Censo adaptado a Modelo Encuestador\n",
    "# (Tener en cuenta que pueden ocupar bastante espacio en disco)\n",
    "out_path = '/media/matias/Elements/suite/yr_samples/'\n",
    "\n",
    "for f in files:\n",
    "    # Cargamos\n",
    "    table = pd.read_csv(f)\n",
    "    \n",
    "    # frac = f.split('_')[-3][1:]\n",
    "    yr = f.split('_')[-2]\n",
    "    table['ANO4'] = int(yr)\n",
    "\n",
    "    # Adaptamos las categorias de respuestas para que iguales las de la EPH\n",
    "    table = adapta_muestras_a_EPH(table)\n",
    "    \n",
    "    # Guardamos\n",
    "    out_file = out_path + Path(f).stem + '_EPHedit.csv'\n",
    "    table.to_csv(out_file, index = False)  # Copias en carpeta yr_samples, en nuestra carpeta de indice de pobreza\n",
    "\n",
    "    # Imprimir tamaño de archivo\n",
    "    size = os.path.getsize(out_file)\n",
    "    human_readable_size = humanize.naturalsize(size)\n",
    "    print(f\"Table saved at {out_file} with size {human_readable_size}.\")\n",
    "    "
   ]
  },
  {
   "cell_type": "code",
   "execution_count": null,
   "metadata": {},
   "outputs": [],
   "source": []
  }
 ],
 "metadata": {
  "kernelspec": {
   "display_name": "Python 3",
   "language": "python",
   "name": "python3"
  },
  "language_info": {
   "codemirror_mode": {
    "name": "ipython",
    "version": 3
   },
   "file_extension": ".py",
   "mimetype": "text/x-python",
   "name": "python",
   "nbconvert_exporter": "python",
   "pygments_lexer": "ipython3",
   "version": "3.10.6 (main, Nov 14 2022, 16:10:14) [GCC 11.3.0]"
  },
  "vscode": {
   "interpreter": {
    "hash": "916dbcbb3f70747c44a77c7bcd40155683ae19c65e1c03b4aa3499c5328201f1"
   }
  }
 },
 "nbformat": 4,
 "nbformat_minor": 2
}
