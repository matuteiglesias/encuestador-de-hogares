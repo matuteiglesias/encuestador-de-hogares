{
 "cells": [
  {
   "cell_type": "markdown",
   "metadata": {},
   "source": [
    "# Training ML algos on EPH. Predicting on CENSO."
   ]
  },
  {
   "cell_type": "code",
   "execution_count": 1,
   "metadata": {},
   "outputs": [],
   "source": [
    "startyr = 2020\n",
    "endyr = 2021"
   ]
  },
  {
   "cell_type": "code",
   "execution_count": 2,
   "metadata": {},
   "outputs": [
    {
     "data": {
      "text/html": [
       "<style>.container { width:100% !important; }</style>"
      ],
      "text/plain": [
       "<IPython.core.display.HTML object>"
      ]
     },
     "metadata": {},
     "output_type": "display_data"
    }
   ],
   "source": [
    "# Load modules\n",
    "import warnings\n",
    "warnings.filterwarnings('ignore')\n",
    "\n",
    "import pandas as pd\n",
    "import numpy as np\n",
    "\n",
    "from sklearn.model_selection import train_test_split\n",
    "from sklearn.ensemble import RandomForestClassifier, RandomForestRegressor\n",
    "from IPython.core.display import display, HTML\n",
    "\n",
    "import pickle\n",
    "from IPython.core.display import display, HTML\n",
    "display(HTML(\"<style>.container { width:100% !important; }</style>\"))\n",
    "\n",
    "import os"
   ]
  },
  {
   "cell_type": "code",
   "execution_count": 3,
   "metadata": {},
   "outputs": [],
   "source": [
    "# Column names\n",
    "y_cols = ['CAT_OCUP', 'P47T', 'PP10E', 'PP10D', 'PP07K', 'PP07I', 'V3_M', 'PP07G4', 'CH16', 'T_VI', \n",
    "          'V12_M', 'TOT_P12', 'PP07G3', 'V5_M', 'PP07H', 'V2_M', 'PP10C', \n",
    "          'PP08D1', 'PP07J', 'CAT_INAC', 'CH07', 'CH08', 'P21', 'PP07G1', 'PP07G_59', 'PP07G2']\n",
    "\n",
    "\n",
    "x_cols = ['IX_TOT', 'P02', 'P03', 'AGLO_rk', 'Reg_rk', 'V01', 'H05', 'H06',\n",
    "       'H07', 'H08', 'H09', 'H10', 'H11', 'H12', 'H16', 'H15', 'PROP', 'H14',\n",
    "       'H13', 'P07', 'P08', 'P09', 'P10', 'P05', 'CONDACT']\n",
    "\n",
    "x_cols1 = x_cols\n",
    "predecir1 = ['CAT_OCUP', 'CAT_INAC', 'CH07']\n",
    "\n",
    "x_cols2 = x_cols1 + predecir1\n",
    "predecir2 = ['INGRESO', 'INGRESO_NLB', 'INGRESO_JUB', 'INGRESO_SBS']\n",
    "\n",
    "x_cols3 = x_cols2 + predecir2\n",
    "# La seccion PP07G pregunta si el trabajo es en blanco y que beneficios tiene. Puede ayudar a la regresion para ingresos.\n",
    "# predecir3 = ['PP07G1', 'PP07G2', 'PP07G3', 'PP07G4', 'PP07G_59', 'PP07H', 'PP07I', 'PP07J', 'PP07K']\n",
    "predecir3 = ['PP07G1','PP07G_59', 'PP07I', 'PP07J', 'PP07K']\n",
    "\n",
    "# Columnas de ingresos. Necesitan una regresion...\n",
    "columnas_pesos = [u'P21', u'P47T', u'PP08D1', u'TOT_P12', u'T_VI', u'V12_M', u'V2_M', u'V3_M', u'V5_M']\n",
    "# P21: INGRESO DE LA OCUPACIÓN PRINCIPAL \n",
    "# P47T: TOTAL (laboral y no laboral)\n",
    "# PP08D1: Sueldos, jornales, etc.\n",
    "# TOT_P12: TOTAL DE INGRESO  POR  OTRAS OCUPACIONES (Secundaria, previa...)\n",
    "# T_VI: TOTAL DE INGRESOS NO LABORALES\n",
    "# V12_M:  CUOTAS DE ALIMENTOS O AYUDA EN DINERO  DE PERSONAS QUE NO VIVEN EN EL HOGAR \n",
    "# V2_M: ingreso por JUBILACION O PENSION\n",
    "# V3_M: INDEMNIZACION POR DESPIDO \n",
    "# V5_M: SUBSIDIO  O AYUDA SOCIAL DEL GOBIERNO, IGLESIAS, ETC.\n",
    "\n",
    "x_cols4 = x_cols3 + predecir3\n",
    "# Columnas de ingresos. Necesitan una regresion...\n",
    "predecir4 = columnas_pesos\n",
    "y_cols4 = predecir4"
   ]
  },
  {
   "cell_type": "markdown",
   "metadata": {},
   "source": [
    "### Load info"
   ]
  },
  {
   "cell_type": "code",
   "execution_count": 4,
   "metadata": {
    "scrolled": false
   },
   "outputs": [],
   "source": [
    "radio_ref = pd.read_csv('./../data/info/radio_ref.csv')\n",
    "# radio_ref[['PROV','NOMPROV','DPTO', 'NOMDPTO']].drop_duplicates().to_csv('./../data/DPTO_PROV.csv', index = False)\n",
    "dpto_region = pd.read_csv('./../data/info/DPTO_PROV_Region.csv')\n",
    "radio_ref = radio_ref.merge(dpto_region)\n",
    "\n",
    "AGLO_rk = pd.read_csv('./../data/info/AGLO_rk')\n",
    "Reg_rk = pd.read_csv('./../data/info/Reg_rk')"
   ]
  },
  {
   "cell_type": "code",
   "execution_count": 5,
   "metadata": {},
   "outputs": [],
   "source": [
    "frac = 0.02"
   ]
  },
  {
   "cell_type": "markdown",
   "metadata": {},
   "source": [
    "# Training"
   ]
  },
  {
   "cell_type": "markdown",
   "metadata": {},
   "source": [
    "## Classification 1\n",
    "Columnas ['CAT_OCUP', 'CAT_INAC', 'CH07']"
   ]
  },
  {
   "cell_type": "code",
   "execution_count": 6,
   "metadata": {},
   "outputs": [
    {
     "name": "stdout",
     "output_type": "stream",
     "text": [
      "(169218, 53)\n"
     ]
    }
   ],
   "source": [
    "# Load Census\n",
    "\n",
    "for yr in [str(s) for s in range(startyr, endyr)]:\n",
    "    # Load EPH\n",
    "    train = pd.read_csv('./../data/training/EPHARG_train_'+yr[2:]+'.csv')\n",
    "    train = train.loc[train.P47T >= -0.001].fillna(0)#.sample(400000)\n",
    "    train = train.sort_values('CODUSU') ## Los hogares se repiten en cada cuatrimestre. Esto hace que haya hogares solo en test set. \n",
    "    print(train.shape)\n",
    "\n",
    "    # # NO SE DEBE DEFLACTAR PORQUE YA ESTA DEFLACTADO DE LA NOTEBOOK 2\n",
    "\n",
    "    ### STEP 1\n",
    "    x_cols1 = x_cols\n",
    "\n",
    "    y_cols1 = predecir1\n",
    "\n",
    "    X = train[x_cols1]\n",
    "    y = train[y_cols1]#.loc[X.index]\n",
    "\n",
    "    X_train, X_test, y_train, y_test = train_test_split(X, y, test_size=0.1)\n",
    "    # Rewrite Census data as 'test' set.\n",
    "\n",
    "    X = X_train; y = y_train\n",
    "\n",
    "    forest = RandomForestClassifier(n_estimators=70, max_depth = 35, n_jobs = -1)\n",
    "    clf1 = forest.fit(X.values, y.values)\n",
    "\n",
    "    # save the model to disk\n",
    "    if not os.path.exists('./../fitted_RF/'):\n",
    "        os.makedirs('./../fitted_RF/')\n",
    "    filename = './../fitted_RF/clf1_'+str(frac)+'_'+yr+'_ARG.sav'\n",
    "    pickle.dump(forest, open(filename, 'wb'))"
   ]
  },
  {
   "cell_type": "code",
   "execution_count": 7,
   "metadata": {},
   "outputs": [],
   "source": [
    "# X_train.groupby('AGLO_rk').size()/X_test.groupby('AGLO_rk').size()"
   ]
  },
  {
   "cell_type": "markdown",
   "metadata": {},
   "source": [
    "Cuando predecimos, usamos entradas de la base de datos del censo como X.\n",
    "\n"
   ]
  },
  {
   "cell_type": "markdown",
   "metadata": {},
   "source": [
    "## Classification 2\n",
    "Columna INGRESO"
   ]
  },
  {
   "cell_type": "code",
   "execution_count": 8,
   "metadata": {},
   "outputs": [
    {
     "name": "stdout",
     "output_type": "stream",
     "text": [
      "2020\n"
     ]
    }
   ],
   "source": [
    "# Load Census\n",
    "\n",
    "for yr in [str(s) for s in range(startyr, endyr)]:\n",
    "    # Load EPH\n",
    "    print(yr)\n",
    "\n",
    "    train = pd.read_csv('./../data/training/EPHARG_train_'+yr[2:]+'.csv')\n",
    "#     train = train.merge(AGLO_rk[['AGLOMERADO', 'AGLO_rk']]).merge(Reg_rk[['Region', 'Reg_rk']])\n",
    "    train = train.loc[train.P47T >= -0.001].fillna(0)#.sample(400000)\n",
    "    train = train.sort_values('CODUSU') ## Los hogares se repiten en cada cuatrimestre. Esto hace que haya hogares solo en test set. \n",
    "    train['INGRESO'] = (train.P47T > 100).astype(int)\n",
    "    train['INGRESO_NLB'] = (train.T_VI > 100).astype(int)\n",
    "    train['INGRESO_JUB'] = (train.V2_M > 100).astype(int)\n",
    "    train['INGRESO_SBS'] = (train.V5_M > 100).astype(int)\n",
    "\n",
    "    ### STEP 2\n",
    "    y_cols2 = predecir2\n",
    "\n",
    "    X = train[x_cols2]\n",
    "    y = train[y_cols2]#.loc[X.index]\n",
    "\n",
    "    X_train, X_test, y_train, y_test = train_test_split(X, y, test_size=0.1)\n",
    "    X = X_train; y = y_train\n",
    "\n",
    "    forest = RandomForestClassifier(n_estimators=50, max_depth = 35, n_jobs = -1)\n",
    "    clf2 = forest.fit(X.values, y.values)\n",
    "\n",
    "    # save the model to disk\n",
    "    filename = './../fitted_RF/clf2_'+str(frac)+'_'+yr+'_ARG.sav'\n",
    "    pickle.dump(forest, open(filename, 'wb'))"
   ]
  },
  {
   "cell_type": "markdown",
   "metadata": {},
   "source": [
    "## Classification 3\n",
    "Columnas ['PP07G1', 'PP07G2', 'PP07G3', 'PP07G4', 'PP07G_59', 'PP07H', 'PP07I', 'PP07J', 'PP07K']"
   ]
  },
  {
   "cell_type": "code",
   "execution_count": 9,
   "metadata": {},
   "outputs": [
    {
     "name": "stdout",
     "output_type": "stream",
     "text": [
      "2020\n"
     ]
    }
   ],
   "source": [
    "# Load Census\n",
    "\n",
    "for yr in [str(s) for s in range(startyr, endyr)]:\n",
    "    # Load EPH\n",
    "    print(yr)\n",
    "\n",
    "    train = pd.read_csv('./../data/training/EPHARG_train_'+yr[2:]+'.csv')\n",
    "#     train = train.merge(AGLO_rk[['AGLOMERADO', 'AGLO_rk']]).merge(Reg_rk[['Region', 'Reg_rk']])\n",
    "    train = train.loc[train.P47T >= -0.001].fillna(0)#.sample(400000)\n",
    "    train = train.sort_values('CODUSU') ## Los hogares se repiten en cada cuatrimestre. Esto hace que haya hogares solo en test set. \n",
    "    train['INGRESO'] = (train.P47T > 100).astype(int)\n",
    "    train['INGRESO_NLB'] = (train.T_VI > 100).astype(int)\n",
    "    train['INGRESO_JUB'] = (train.V2_M > 100).astype(int)\n",
    "    train['INGRESO_SBS'] = (train.V5_M > 100).astype(int)\n",
    "    \n",
    "    ### STEP 2\n",
    "    y_cols3 = predecir3\n",
    "\n",
    "    X = train[x_cols3]\n",
    "    y = train[y_cols3]#.loc[X.index]\n",
    "\n",
    "    X_train, X_test, y_train, y_test = train_test_split(X, y, test_size=0.1)\n",
    "    X = X_train; y = y_train\n",
    "\n",
    "    forest = RandomForestClassifier(n_estimators=50, max_depth = 35, n_jobs = -1)\n",
    "    clf3 = forest.fit(X.values, y.values)\n",
    "\n",
    "    # save the model to disk\n",
    "    filename = './../fitted_RF/clf3_'+str(frac)+'_'+yr+'_ARG.sav'\n",
    "    pickle.dump(forest, open(filename, 'wb'))"
   ]
  },
  {
   "cell_type": "markdown",
   "metadata": {},
   "source": [
    "## Regresion\n",
    "Combinamos la info de los varios trimestres, deflactada."
   ]
  },
  {
   "cell_type": "code",
   "execution_count": 10,
   "metadata": {},
   "outputs": [],
   "source": [
    "# startyr = 2003\n",
    "# endyr = 2004"
   ]
  },
  {
   "cell_type": "code",
   "execution_count": 11,
   "metadata": {},
   "outputs": [
    {
     "name": "stdout",
     "output_type": "stream",
     "text": [
      "2020\n",
      "2020-06-30\n",
      "2020-03-31\n"
     ]
    }
   ],
   "source": [
    "for yr in [str(s) for s in range(startyr, endyr)]:\n",
    "# for yr in [str(s) for s in range(2017, endyr)]:\n",
    "    print(yr)\n",
    "    train = pd.read_csv('./../data/training/EPHARG_train_'+yr[2:]+'.csv')\n",
    "#     train = train.merge(AGLO_rk[['AGLOMERADO', 'AGLO_rk']]).merge(Reg_rk[['Region', 'Reg_rk']])\n",
    "\n",
    "    train = train.loc[train.P47T >= -0.001].fillna(0)\n",
    "    train = train.sort_values('CODUSU') ## Los hogares se repiten en cada cuatrimestre. Esto hace que haya hogares solo en test set. \n",
    "    train['INGRESO'] = (train.P47T > 100).astype(int)\n",
    "    train['INGRESO_NLB'] = (train.T_VI > 100).astype(int)\n",
    "    train['INGRESO_JUB'] = (train.V2_M > 100).astype(int)\n",
    "    train['INGRESO_SBS'] = (train.V5_M > 100).astype(int)\n",
    "\n",
    "    train[columnas_pesos] = np.log10(train[columnas_pesos].clip(-.9) + 1)\n",
    "\n",
    "\n",
    "    for q in train.Q.unique():\n",
    "        print(q)\n",
    "        ### STEP 3 (Regression)\n",
    "        train_q = train.loc[train.Q == q]\n",
    "\n",
    "        X = train_q[x_cols4]#.sample(frac = 1) #PBA_train_reg\n",
    "        y = train_q[y_cols4].loc[X.index].fillna(0) #PBA_train_reg\n",
    "\n",
    "        X_train, X_test, y_train, y_test = train_test_split(X, y, test_size=0.1)\n",
    "        X = X_train; y = y_train\n",
    "\n",
    "        forest = RandomForestRegressor(n_estimators=1, max_depth = 45, n_jobs = -1)\n",
    "        clf4 = forest.fit(X.values, y.values)\n",
    "        \n",
    "        # save the model to disk\n",
    "        filename = './../fitted_RF/clf4_'+str(frac)+'_'+q+'_ARG.sav'\n",
    "        pickle.dump(forest, open(filename, 'wb'))"
   ]
  },
  {
   "cell_type": "code",
   "execution_count": null,
   "metadata": {},
   "outputs": [],
   "source": []
  }
 ],
 "metadata": {
  "kernelspec": {
   "display_name": "Python 3",
   "language": "python",
   "name": "python3"
  },
  "language_info": {
   "codemirror_mode": {
    "name": "ipython",
    "version": 3
   },
   "file_extension": ".py",
   "mimetype": "text/x-python",
   "name": "python",
   "nbconvert_exporter": "python",
   "pygments_lexer": "ipython3",
   "version": "3.6.7"
  }
 },
 "nbformat": 4,
 "nbformat_minor": 2
}
