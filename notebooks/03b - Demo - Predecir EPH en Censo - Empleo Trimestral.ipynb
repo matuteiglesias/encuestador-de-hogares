{
 "cells": [
  {
   "cell_type": "markdown",
   "metadata": {},
   "source": [
    "# Predicting on CENSO samples."
   ]
  },
  {
   "cell_type": "code",
   "execution_count": 1,
   "metadata": {},
   "outputs": [],
   "source": [
    "startyr = 2020\n",
    "endyr = 2021"
   ]
  },
  {
   "cell_type": "code",
   "execution_count": 2,
   "metadata": {},
   "outputs": [
    {
     "data": {
      "text/html": [
       "<style>.container { width:100% !important; }</style>"
      ],
      "text/plain": [
       "<IPython.core.display.HTML object>"
      ]
     },
     "metadata": {},
     "output_type": "display_data"
    }
   ],
   "source": [
    "# Load modules\n",
    "import warnings\n",
    "warnings.filterwarnings('ignore')\n",
    "\n",
    "import pandas as pd\n",
    "import numpy as np\n",
    "\n",
    "from sklearn.model_selection import train_test_split\n",
    "from sklearn.ensemble import RandomForestClassifier, RandomForestRegressor\n",
    "from IPython.core.display import display, HTML\n",
    "\n",
    "import pickle\n",
    "from IPython.core.display import display, HTML\n",
    "display(HTML(\"<style>.container { width:100% !important; }</style>\"))\n",
    "\n",
    "import os\n",
    "import datetime as dt\n"
   ]
  },
  {
   "cell_type": "code",
   "execution_count": 3,
   "metadata": {},
   "outputs": [],
   "source": [
    "# Column names\n",
    "y_cols = ['CAT_OCUP', 'P47T', 'PP10E', 'PP10D', 'PP07K', 'PP07I', 'V3_M', 'PP07G4', 'CH16', 'T_VI', \n",
    "          'V12_M', 'TOT_P12', 'PP07G3', 'V5_M', 'PP07H', 'V2_M', 'PP10C', \n",
    "          'PP08D1', 'PP07J', 'CAT_INAC', 'CH07', 'CH08', 'P21', 'PP07G1', 'PP07G_59', 'PP07G2']\n",
    "\n",
    "\n",
    "x_cols = ['IX_TOT', 'P02', 'P03', 'AGLO_rk', 'Reg_rk', 'V01', 'H05', 'H06',\n",
    "       'H07', 'H08', 'H09', 'H10', 'H11', 'H12', 'H16', 'H15', 'PROP', 'H14',\n",
    "       'H13', 'P07', 'P08', 'P09', 'P10', 'P05', 'CONDACT']\n",
    "\n",
    "x_cols1 = x_cols\n",
    "predecir1 = ['CAT_OCUP', 'CAT_INAC', 'CH07']\n",
    "\n",
    "x_cols2 = x_cols1 + predecir1\n",
    "predecir2 = ['INGRESO', 'INGRESO_NLB', 'INGRESO_JUB', 'INGRESO_SBS']\n",
    "\n",
    "x_cols3 = x_cols2 + predecir2\n",
    "# La seccion PP07G pregunta si el trabajo es en blanco y que beneficios tiene. Puede ayudar a la regresion para ingresos.\n",
    "# predecir3 = ['PP07G1', 'PP07G2', 'PP07G3', 'PP07G4', 'PP07G_59', 'PP07H', 'PP07I', 'PP07J', 'PP07K']\n",
    "predecir3 = ['PP07G1','PP07G_59', 'PP07I', 'PP07J', 'PP07K']\n",
    "\n",
    "# Columnas de ingresos. Necesitan una regresion...\n",
    "columnas_pesos = [u'P21', u'P47T', u'PP08D1', u'TOT_P12', u'T_VI', u'V12_M', u'V2_M', u'V3_M', u'V5_M']\n",
    "# P21: INGRESO DE LA OCUPACIÓN PRINCIPAL \n",
    "# P47T: TOTAL (laboral y no laboral)\n",
    "# PP08D1: Sueldos, jornales, etc.\n",
    "# TOT_P12: TOTAL DE INGRESO  POR  OTRAS OCUPACIONES (Secundaria, previa...)\n",
    "# T_VI: TOTAL DE INGRESOS NO LABORALES\n",
    "# V12_M:  CUOTAS DE ALIMENTOS O AYUDA EN DINERO  DE PERSONAS QUE NO VIVEN EN EL HOGAR \n",
    "# V2_M: ingreso por JUBILACION O PENSION\n",
    "# V3_M: INDEMNIZACION POR DESPIDO \n",
    "# V5_M: SUBSIDIO  O AYUDA SOCIAL DEL GOBIERNO, IGLESIAS, ETC.\n",
    "\n",
    "x_cols4 = x_cols3 + predecir3\n",
    "# Columnas de ingresos. Necesitan una regresion...\n",
    "predecir4 = columnas_pesos\n",
    "y_cols4 = predecir4"
   ]
  },
  {
   "cell_type": "markdown",
   "metadata": {},
   "source": [
    "### Load info"
   ]
  },
  {
   "cell_type": "code",
   "execution_count": 4,
   "metadata": {
    "scrolled": false
   },
   "outputs": [],
   "source": [
    "##############################################################################################################\n",
    "##############################################################################################################\n",
    "##############################################################################################################\n",
    "radio_ref = pd.read_csv('./../data/info/radio_ref.csv')\n",
    "# radio_ref[['PROV','NOMPROV','DPTO', 'NOMDPTO']].drop_duplicates().to_csv('./../data/DPTO_PROV.csv', index = False)\n",
    "dpto_region = pd.read_csv('./../data/info/DPTO_PROV_Region.csv')\n",
    "radio_ref = radio_ref.merge(dpto_region)\n",
    "##############################################################################################################\n",
    "##############################################################################################################\n",
    "##############################################################################################################\n",
    "\n",
    "AGLO_rk = pd.read_csv('./../data/info/AGLO_rk')\n",
    "Reg_rk = pd.read_csv('./../data/info/Reg_rk')"
   ]
  },
  {
   "cell_type": "code",
   "execution_count": 5,
   "metadata": {},
   "outputs": [],
   "source": [
    "frac = 0.02"
   ]
  },
  {
   "cell_type": "code",
   "execution_count": 6,
   "metadata": {},
   "outputs": [],
   "source": [
    "desemp_ratio = pd.read_csv('./../data/info/unemp_ratio_censo2010.csv', index_col=0)\n",
    "desemp_ratio.index = pd.DatetimeIndex(desemp_ratio.index)"
   ]
  },
  {
   "cell_type": "markdown",
   "metadata": {},
   "source": [
    "# Predicting"
   ]
  },
  {
   "cell_type": "markdown",
   "metadata": {},
   "source": [
    "## Classification 1\n",
    "Columnas ['CAT_OCUP', 'CAT_INAC', 'CH07']"
   ]
  },
  {
   "cell_type": "code",
   "execution_count": 7,
   "metadata": {},
   "outputs": [],
   "source": [
    "# for yr in [str(s) for s in range(startyr, endyr)]:\n",
    "#     print(yr)\n",
    "# #     file_ = './../data/yr_samples/sample_censo_table_f'+str(frac)+'_'+yr+'_ARG.csv'\n",
    "#     file_ = '/media/miglesia/Elements/CENSO_dirs/extracted_/yr_samples/sample_censo_table_f'+str(frac)+'_'+yr+'_ARG.csv'\n",
    "\n",
    "\n",
    "#     X_censo = pd.read_csv(file_, usecols = ['DPTO','RADIO_REF_ID','PERSONA_REF_ID', 'HOGAR_REF_ID','IX_TOT', 'P02', 'P03', 'CONDACT', 'AGLOMERADO', 'V01', 'H05', 'H06',\n",
    "#            'H07', 'H08', 'H09', 'H10', 'H11', 'H12', 'H16', 'H15', 'PROP', 'H14',\n",
    "#            'H13', 'P07', 'P08', 'P09', 'P10', 'P05']).fillna(0)\n",
    "    \n",
    "#     DPTO_Region = radio_ref[['DPTO', 'Region']].drop_duplicates()\n",
    "#     X_censo = X_censo.merge(DPTO_Region)\n",
    "# #     print(X_censo.merge(radio_ref[['RADIO_REF_ID', 'PROV']], how = 'left')['PROV'].nunique())\n",
    "#     X_censo = X_censo.merge(AGLO_rk[['AGLOMERADO', 'AGLO_rk']]).merge(Reg_rk[['Region', 'Reg_rk']])\n",
    "    \n",
    "    \n",
    "#     ### Adaptacion del nivel de desempleo\n",
    "    \n",
    "    \n",
    "    # Cargar modelo...\n",
    "#     filename = './../fitted_RF/clf1_'+str(frac)+'_'+yr+'_ARG.sav'\n",
    "#     clf1 = pickle.load(open(filename, 'rb'))\n",
    "    \n",
    "#     y_out1 = clf1.predict(X_censo[x_cols1].values)\n",
    "#     y_censo_fit1 = pd.DataFrame(y_out1, index = X_censo.index, columns=predecir1)\n",
    "#     Xy1_censo = pd.concat([X_censo, y_censo_fit1], axis = 1)\n",
    "\n",
    "#     # save \n",
    "#     Xy1_censo.to_csv('./../data/yr_samples/RFC1_'+str(frac)+'_'+yr+'_ARG.csv', index = False)\n"
   ]
  },
  {
   "cell_type": "code",
   "execution_count": 8,
   "metadata": {},
   "outputs": [],
   "source": [
    "# # Desempleo segun condicion de agro\n",
    "  \n",
    "#     X_censo_ = X_censo.copy()\n",
    "#     X_censo_['AGLOMERADO'] = X_censo_['AGLOMERADO'] != 0\n",
    "\n",
    "#     # X_censo_.groupby(['AGLOMERADO', 'CONDACT']).size().unstack()\n",
    "\n",
    "#     ### Nivel Nacional:\n",
    "#     nrs = X_censo_.groupby(['CONDACT', 'AGLOMERADO']).size().unstack()\n",
    "#     display(np.round(100* nrs.loc[2] / (nrs.loc[1] + nrs.loc[2]), 3)) #.sort_values()\n",
    "\n",
    "#     # nrs"
   ]
  },
  {
   "cell_type": "code",
   "execution_count": 9,
   "metadata": {},
   "outputs": [],
   "source": [
    "if not os.path.exists('./../data/yr_samples'):\n",
    "    os.makedirs('./../data/yr_samples')"
   ]
  },
  {
   "cell_type": "code",
   "execution_count": 10,
   "metadata": {},
   "outputs": [
    {
     "name": "stdout",
     "output_type": "stream",
     "text": [
      "2020\n",
      "2020-03-31T00:00:00.000000000\n",
      "7953\n",
      "0.07701168489188692\n",
      "2020-06-30T00:00:00.000000000\n",
      "16753\n",
      "0.0970052778541422\n",
      "2020-09-30T00:00:00.000000000\n",
      "12249\n",
      "0.0867721934561879\n",
      "2020-12-31T00:00:00.000000000\n",
      "10018\n",
      "0.08170336324041613\n"
     ]
    }
   ],
   "source": [
    "for yr in [str(s) for s in range(startyr, endyr)]:\n",
    "    print(yr)\n",
    "        \n",
    "#     file_ = './../data/yr_samples/sample_censo_table_f'+str(frac)+'_'+yr+'_ARG.csv'\n",
    "    file_ = './../../yr_samples/sample_censo_table_f'+str(frac)+'_'+yr+'_ARG.csv'\n",
    "\n",
    "\n",
    "    X_censo = pd.read_csv(file_, usecols = ['DPTO','RADIO_REF_ID','PERSONA_REF_ID', 'HOGAR_REF_ID','IX_TOT', 'P02', 'P03', 'CONDACT', 'AGLOMERADO', 'V01', 'H05', 'H06',\n",
    "           'H07', 'H08', 'H09', 'H10', 'H11', 'H12', 'H16', 'H15', 'PROP', 'H14',\n",
    "           'H13', 'P07', 'P08', 'P09', 'P10', 'P05']).fillna(0)\n",
    "    \n",
    "    DPTO_Region = radio_ref[['DPTO', 'Region']].drop_duplicates()\n",
    "    X_censo = X_censo.merge(DPTO_Region)\n",
    "#     print(X_censo.merge(radio_ref[['RADIO_REF_ID', 'PROV']], how = 'left')['PROV'].nunique())\n",
    "    X_censo = X_censo.merge(AGLO_rk[['AGLOMERADO', 'AGLO_rk']]).merge(Reg_rk[['Region', 'Reg_rk']])\n",
    "    \n",
    "\n",
    "    ## Tratamiento trimestral \n",
    "    \n",
    "#     qs = pd.read_csv('./../data/training/EPHARG_train_'+yr[2:]+'.csv', usecols=['Q'])\n",
    "    qs = qs = pd.date_range(start = dt.datetime(int(yr),3,31), end = dt.datetime(int(yr),12,31), freq='Q').values\n",
    "    \n",
    "    desemp_ARG_censo = 1174037/(18645609 + 1174037)\n",
    "    CONDACT_cnts = X_censo.CONDACT.value_counts()\n",
    "\n",
    "    for q in qs:\n",
    "        X_q = X_censo.copy()\n",
    "        X_q['Q'] = q\n",
    "\n",
    "        # desemp_ARG_censo_sample = CONDACT_cnts.loc[2]/(CONDACT_cnts.loc[1] + CONDACT_cnts.loc[2])\n",
    "        \n",
    "        ratio = desemp_ratio.loc[q].censo2010_ratio\n",
    "        n_desempleados_ = ratio*(CONDACT_cnts[1] + CONDACT_cnts[2])*desemp_ARG_censo\n",
    "        desemp_adic = round(n_desempleados_ - CONDACT_cnts.loc[2]) # Desempleados adicionales\n",
    "        print(q)\n",
    "        print(desemp_adic)\n",
    "\n",
    "        if desemp_adic > 0:\n",
    "            X_q.loc[\n",
    "                X_q.query('CONDACT == 1').sample(desemp_adic).index,\n",
    "                'CONDACT'\n",
    "            ] = 2\n",
    "        elif desemp_adic < 0:\n",
    "            X_q.loc[\n",
    "                X_q.query('CONDACT == 2').sample(- desemp_adic).index,\n",
    "                'CONDACT'\n",
    "            ] = 1\n",
    "\n",
    "        desempleo = X_q.CONDACT.value_counts().loc[2] / (X_q.CONDACT.value_counts().loc[1] + X_q.CONDACT.value_counts().loc[2])\n",
    "        print(desempleo)\n",
    "\n",
    "        #################################    #################################    #################################\n",
    "\n",
    "        ## CLASIF 1\n",
    "\n",
    "        fitted_data_file_1 = './../data/yr_samples/RFC1_'+str(frac)+'ARG'+str(q)[:10]+'.csv'\n",
    "        if not os.path.exists(fitted_data_file_1):\n",
    "            # Cargar Modelo\n",
    "            filename = './../fitted_RF/clf1_'+str(frac)+'_'+yr+'_ARG.sav'\n",
    "            clf1 = pickle.load(open(filename, 'rb'))\n",
    "\n",
    "            y_out1 = clf1.predict(X_q[x_cols1].values)\n",
    "            y_censo_fit1 = pd.DataFrame(y_out1, index = X_q.index, columns=predecir1)\n",
    "            Xy1_censo = pd.concat([X_q, y_censo_fit1], axis = 1)\n",
    "\n",
    "        #     # save \n",
    "            Xy1_censo.to_csv(fitted_data_file_1, index = False)\n"
   ]
  },
  {
   "cell_type": "code",
   "execution_count": 11,
   "metadata": {},
   "outputs": [
    {
     "name": "stdout",
     "output_type": "stream",
     "text": [
      "2020\n"
     ]
    }
   ],
   "source": [
    "for yr in [str(s) for s in range(startyr, endyr)]:\n",
    "    print(yr)\n",
    "    qs = qs = pd.date_range(start = dt.datetime(int(yr),3,31), end = dt.datetime(int(yr),12,31), freq='Q').values\n",
    "\n",
    "    for q in qs:\n",
    "    ## CLASIF 2\n",
    "\n",
    "        ## Cargar Modelo\n",
    "        fitted_data_file_1 = './../data/yr_samples/RFC1_'+str(frac)+'ARG'+str(q)[:10]+'.csv'\n",
    "        fitted_data_file_2 = './../data/yr_samples/RFC2_'+str(frac)+'ARG'+str(q)[:10]+'.csv'\n",
    "\n",
    "        if not os.path.exists(fitted_data_file_2):\n",
    "            Xy1_censo = pd.read_csv(fitted_data_file_1)\n",
    "            \n",
    "            filename = './../fitted_RF/clf2_'+str(frac)+'_'+yr+'_ARG.sav'\n",
    "            clf2 = pickle.load(open(filename, 'rb'))\n",
    "\n",
    "            y_out2 = clf2.predict(Xy1_censo[x_cols2].values)\n",
    "            y_censo_fit2 = pd.DataFrame(y_out2, index = Xy1_censo.index, columns=predecir2)\n",
    "\n",
    "            Xy2_censo = pd.concat([Xy1_censo, y_censo_fit2], axis = 1)\n",
    "\n",
    "        # #     # # save\n",
    "            Xy2_censo.to_csv(fitted_data_file_2, index = False)\n"
   ]
  },
  {
   "cell_type": "code",
   "execution_count": 12,
   "metadata": {},
   "outputs": [
    {
     "name": "stdout",
     "output_type": "stream",
     "text": [
      "2020\n"
     ]
    }
   ],
   "source": [
    "## CLASIF 3\n",
    "for yr in [str(s) for s in range(startyr, endyr)]:\n",
    "    print(yr)\n",
    "    qs = qs = pd.date_range(start = dt.datetime(int(yr),3,31), end = dt.datetime(int(yr),12,31), freq='Q').values\n",
    "\n",
    "    for q in qs:\n",
    "        ## Cargar Modelo\n",
    "        \n",
    "                ## Cargar Modelo\n",
    "        fitted_data_file_2 = './../data/yr_samples/RFC2_'+str(frac)+'ARG'+str(q)[:10]+'.csv'\n",
    "        fitted_data_file_3 = './../data/yr_samples/RFC3_'+str(frac)+'ARG'+str(q)[:10]+'.csv'        \n",
    "        \n",
    "        if not os.path.exists(fitted_data_file_3):\n",
    "            \n",
    "            Xy2_censo = pd.read_csv(fitted_data_file_2)\n",
    "            \n",
    "            filename = './../fitted_RF/clf3_'+str(frac)+'_'+yr+'_ARG.sav'\n",
    "            clf3 = pickle.load(open(filename, 'rb'))\n",
    "\n",
    "            y_out3 = clf3.predict(Xy2_censo[x_cols3].values)\n",
    "            y_censo_fit3 = pd.DataFrame(y_out3, index = Xy2_censo.index, columns=predecir3)\n",
    "\n",
    "            Xy3_censo = pd.concat([Xy2_censo, y_censo_fit3], axis = 1)\n",
    "\n",
    "        #     # # save\n",
    "            Xy3_censo.to_csv(fitted_data_file_3, index = False)\n"
   ]
  },
  {
   "cell_type": "code",
   "execution_count": 32,
   "metadata": {},
   "outputs": [
    {
     "name": "stdout",
     "output_type": "stream",
     "text": [
      "2020\n"
     ]
    },
    {
     "ename": "FileNotFoundError",
     "evalue": "[Errno 2] No such file or directory: './../fitted_RF/clf4_0.02_2020-12-31_ARG.sav'",
     "output_type": "error",
     "traceback": [
      "\u001b[0;31m---------------------------------------------------------------------------\u001b[0m",
      "\u001b[0;31mFileNotFoundError\u001b[0m                         Traceback (most recent call last)",
      "\u001b[0;32m<ipython-input-32-6063b2eec7a6>\u001b[0m in \u001b[0;36m<module>\u001b[0;34m\u001b[0m\n\u001b[1;32m     12\u001b[0m \u001b[0;34m\u001b[0m\u001b[0m\n\u001b[1;32m     13\u001b[0m             \u001b[0mfilename\u001b[0m \u001b[0;34m=\u001b[0m \u001b[0;34m'./../fitted_RF/clf4_'\u001b[0m\u001b[0;34m+\u001b[0m\u001b[0mstr\u001b[0m\u001b[0;34m(\u001b[0m\u001b[0mfrac\u001b[0m\u001b[0;34m)\u001b[0m\u001b[0;34m+\u001b[0m\u001b[0;34m'_'\u001b[0m\u001b[0;34m+\u001b[0m\u001b[0mstr\u001b[0m\u001b[0;34m(\u001b[0m\u001b[0mq\u001b[0m\u001b[0;34m)\u001b[0m\u001b[0;34m[\u001b[0m\u001b[0;34m:\u001b[0m\u001b[0;36m10\u001b[0m\u001b[0;34m]\u001b[0m\u001b[0;34m+\u001b[0m\u001b[0;34m'_ARG.sav'\u001b[0m\u001b[0;34m\u001b[0m\u001b[0;34m\u001b[0m\u001b[0m\n\u001b[0;32m---> 14\u001b[0;31m             \u001b[0mclf4\u001b[0m \u001b[0;34m=\u001b[0m \u001b[0mpickle\u001b[0m\u001b[0;34m.\u001b[0m\u001b[0mload\u001b[0m\u001b[0;34m(\u001b[0m\u001b[0mopen\u001b[0m\u001b[0;34m(\u001b[0m\u001b[0mfilename\u001b[0m\u001b[0;34m,\u001b[0m \u001b[0;34m'rb'\u001b[0m\u001b[0;34m)\u001b[0m\u001b[0;34m)\u001b[0m\u001b[0;34m\u001b[0m\u001b[0;34m\u001b[0m\u001b[0m\n\u001b[0m\u001b[1;32m     15\u001b[0m \u001b[0;34m\u001b[0m\u001b[0m\n\u001b[1;32m     16\u001b[0m             \u001b[0my_out4\u001b[0m \u001b[0;34m=\u001b[0m \u001b[0mclf4\u001b[0m\u001b[0;34m.\u001b[0m\u001b[0mpredict\u001b[0m\u001b[0;34m(\u001b[0m\u001b[0mXy3_censo\u001b[0m\u001b[0;34m[\u001b[0m\u001b[0mx_cols4\u001b[0m\u001b[0;34m]\u001b[0m\u001b[0;34m.\u001b[0m\u001b[0mvalues\u001b[0m\u001b[0;34m)\u001b[0m\u001b[0;34m\u001b[0m\u001b[0;34m\u001b[0m\u001b[0m\n",
      "\u001b[0;31mFileNotFoundError\u001b[0m: [Errno 2] No such file or directory: './../fitted_RF/clf4_0.02_2020-12-31_ARG.sav'"
     ]
    }
   ],
   "source": [
    "# REGRESION\n",
    "for yr in [str(s) for s in range(startyr, endyr)]:\n",
    "    print(yr)\n",
    "    qs = pd.date_range(start = dt.datetime(int(yr),3,31), end = dt.datetime(int(yr),12,31), freq='Q').values\n",
    "    for q in qs:\n",
    "        fitted_data_file_3 = './../data/yr_samples/RFC3_'+str(frac)+'ARG'+str(q)[:10]+'.csv'\n",
    "        fitted_data_file_r = './../data/yr_samples/RFReg_'+str(frac)+'ARG'+str(q)[:10]+'.csv'\n",
    "                \n",
    "        if not os.path.exists(fitted_data_file_r):\n",
    "\n",
    "            Xy3_censo = pd.read_csv(fitted_data_file_3)\n",
    "\n",
    "            filename = './../fitted_RF/clf4_'+str(frac)+'_'+str(q)[:10]+'_ARG.sav'\n",
    "            clf4 = pickle.load(open(filename, 'rb'))\n",
    "\n",
    "            y_out4 = clf4.predict(Xy3_censo[x_cols4].values)\n",
    "            y_censo_fit4 = pd.DataFrame(y_out4, index = Xy3_censo.index, columns=predecir4)\n",
    "\n",
    "\n",
    "            Xy4_censo = pd.concat([Xy3_censo, y_censo_fit4], axis = 1)\n",
    "            Xy4_censo.to_csv(fitted_data_file_r, index = False)\n"
   ]
  },
  {
   "cell_type": "code",
   "execution_count": null,
   "metadata": {},
   "outputs": [],
   "source": [
    "xx"
   ]
  },
  {
   "cell_type": "code",
   "execution_count": null,
   "metadata": {},
   "outputs": [],
   "source": [
    "## Cargar Modelo\n",
    "filename = '/media/miglesia/Elements/CENSO_dirs/Pobreza/fitted_RF/clf4_'+str(frac)+'_'+str(q)[:10]+'_ARG.sav'\n",
    "clf4 = pickle.load(open(filename, 'rb'))\n",
    "\n",
    "y_out4 = clf4.predict(Xy3_censo[x_cols4].values)\n",
    "y_censo_fit4 = pd.DataFrame(y_out4, index = Xy3_censo.index, columns=predecir4)\n",
    "\n",
    "\n",
    "Xy4_censo = pd.concat([Xy3_censo, y_censo_fit4], axis = 1)"
   ]
  },
  {
   "cell_type": "code",
   "execution_count": null,
   "metadata": {},
   "outputs": [],
   "source": [
    "# Xy4_censo.head().columns\n",
    "Xy4_censo['Q'] = q"
   ]
  },
  {
   "cell_type": "code",
   "execution_count": null,
   "metadata": {},
   "outputs": [],
   "source": [
    "data = X_censo.merge(radio_ref, how = 'left').groupby(['AGLOMERADO', 'CONDACT']).size().unstack()\n",
    "display(100*round(data[2]/(data[1] + data[2]), 3))"
   ]
  },
  {
   "cell_type": "code",
   "execution_count": null,
   "metadata": {},
   "outputs": [],
   "source": [
    "cnts = Xy4_censo.CONDACT.value_counts()\n",
    "cnts[2]/(cnts[1] + cnts[2])"
   ]
  },
  {
   "cell_type": "code",
   "execution_count": null,
   "metadata": {},
   "outputs": [],
   "source": [
    "0.077/desemp_ARG_censo"
   ]
  },
  {
   "cell_type": "code",
   "execution_count": null,
   "metadata": {},
   "outputs": [],
   "source": [
    "data = Xy4_censo.merge(radio_ref, how = 'left').groupby(['AGLOMERADO', 'CONDACT']).size().unstack()\n",
    "display(100*round(data[2]/(data[1] + data[2]), 3))"
   ]
  },
  {
   "cell_type": "code",
   "execution_count": null,
   "metadata": {},
   "outputs": [],
   "source": [
    "xx"
   ]
  },
  {
   "cell_type": "markdown",
   "metadata": {},
   "source": [
    "## Classification 2\n",
    "Columna INGRESO"
   ]
  },
  {
   "cell_type": "code",
   "execution_count": null,
   "metadata": {},
   "outputs": [],
   "source": [
    "for yr in [str(s) for s in range(startyr, endyr)]:\n",
    "    print(yr)\n",
    "    Xy1_censo = pd.read_csv('./../data/yr_samples/RFC1_'+str(frac)+'_'+yr+'_ARG.csv')\n",
    "    \n",
    "    ## Cargar Modelo\n",
    "    filename = './../fitted_RF/clf2_'+str(frac)+'_'+yr+'_ARG.sav'\n",
    "    clf2 = pickle.load(open(filename, 'rb'))\n",
    "       \n",
    "    y_out2 = clf2.predict(Xy1_censo[x_cols2].values)\n",
    "    y_censo_fit2 = pd.DataFrame(y_out2, index = Xy1_censo.index, columns=predecir2)\n",
    "\n",
    "    Xy2_censo = pd.concat([Xy1_censo, y_censo_fit2], axis = 1)\n",
    "\n",
    "#     # # save\n",
    "    Xy2_censo.to_csv('./../data/yr_samples/RFC2_'+str(frac)+'_'+yr+'_ARG.csv', index = False)"
   ]
  },
  {
   "cell_type": "markdown",
   "metadata": {},
   "source": [
    "## Classification 3\n",
    "Columnas ['PP07G1', 'PP07G2', 'PP07G3', 'PP07G4', 'PP07G_59', 'PP07H', 'PP07I', 'PP07J', 'PP07K']"
   ]
  },
  {
   "cell_type": "code",
   "execution_count": null,
   "metadata": {},
   "outputs": [],
   "source": [
    "for yr in [str(s) for s in range(startyr, endyr)]:\n",
    "    print(yr)\n",
    "    Xy2_censo = pd.read_csv('./../data/yr_samples/RFC2_'+str(frac)+'_'+yr+'_ARG.csv')\n",
    "    \n",
    "    ## Cargar Modelo\n",
    "    filename = './../fitted_RF/clf3_'+str(frac)+'_'+yr+'_ARG.sav'\n",
    "    clf3 = pickle.load(open(filename, 'rb'))\n",
    "       \n",
    "    y_out3 = clf3.predict(Xy2_censo[x_cols3].values)\n",
    "    y_censo_fit3 = pd.DataFrame(y_out3, index = Xy2_censo.index, columns=predecir3)\n",
    "\n",
    "    Xy3_censo = pd.concat([Xy2_censo, y_censo_fit3], axis = 1)\n",
    "\n",
    "    # # save\n",
    "    Xy3_censo.to_csv('./../data/yr_samples/RFC3_'+str(frac)+'_'+yr+'_ARG.csv', index = False)"
   ]
  },
  {
   "cell_type": "markdown",
   "metadata": {},
   "source": [
    "## Regresion"
   ]
  },
  {
   "cell_type": "code",
   "execution_count": null,
   "metadata": {},
   "outputs": [],
   "source": [
    "for yr in [str(s) for s in range(startyr, endyr)]:\n",
    "    print(yr)\n",
    "    Xy3_censo = pd.read_csv('./../data/yr_samples/RFC3_'+str(frac)+'_'+yr+'_ARG.csv')\n",
    "        \n",
    "    qs = pd.read_csv('./../data/training/EPHARG_train_'+yr[2:]+'.csv', usecols=['Q'])\n",
    "    \n",
    "    for q in qs.Q.unique():\n",
    "\n",
    "        ## Cargar Modelo\n",
    "        filename = './../fitted_RF/clf4_'+str(frac)+'_'+q+'_ARG.sav'\n",
    "        clf4 = pickle.load(open(filename, 'rb'))\n",
    "\n",
    "        y_out4 = clf4.predict(Xy3_censo[x_cols4].values)\n",
    "        y_censo_fit4 = pd.DataFrame(y_out4, index = Xy3_censo.index, columns=predecir4)\n",
    "\n",
    "\n",
    "        Xy4_censo = pd.concat([Xy3_censo, y_censo_fit4], axis = 1)\n",
    "        Xy4_censo.to_csv('./../data/yr_samples/RFReg_'+str(frac)+'ARG'+str(q)+'.csv', index = False)\n"
   ]
  },
  {
   "cell_type": "code",
   "execution_count": null,
   "metadata": {},
   "outputs": [],
   "source": []
  }
 ],
 "metadata": {
  "kernelspec": {
   "display_name": "Python 3",
   "language": "python",
   "name": "python3"
  },
  "language_info": {
   "codemirror_mode": {
    "name": "ipython",
    "version": 3
   },
   "file_extension": ".py",
   "mimetype": "text/x-python",
   "name": "python",
   "nbconvert_exporter": "python",
   "pygments_lexer": "ipython3",
   "version": "3.10.6 (main, Nov 14 2022, 16:10:14) [GCC 11.3.0]"
  },
  "vscode": {
   "interpreter": {
    "hash": "916dbcbb3f70747c44a77c7bcd40155683ae19c65e1c03b4aa3499c5328201f1"
   }
  }
 },
 "nbformat": 4,
 "nbformat_minor": 2
}
