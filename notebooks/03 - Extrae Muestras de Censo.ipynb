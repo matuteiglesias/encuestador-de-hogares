{
 "cells": [
  {
   "attachments": {},
   "cell_type": "markdown",
   "metadata": {},
   "source": [
    "## Clonar Sampler Censo\n"
   ]
  },
  {
   "cell_type": "code",
   "execution_count": 1,
   "metadata": {},
   "outputs": [],
   "source": [
    "## \n",
    "import os\n",
    "\n",
    "# Verifico si existe el directorio donde se guardarian los microdatos\n",
    "directorio_sampler = \"./../../samplerCensoARG/\"\n",
    "\n",
    "# Si el directorio no existe, lo creo y clono el repositorio en ese lugar\n",
    "if not os.path.exists(directorio_sampler):\n",
    "    os.makedirs(directorio_sampler)\n",
    "\n",
    "    # Si el modulo git no esta instalado, lo instalo\n",
    "    try:\n",
    "        import git\n",
    "    except ImportError:\n",
    "        !pip install gitpython\n",
    "        import git\n",
    "\n",
    "    git.Repo.clone_from(\"https://github.com/matuteiglesias/samplerCensoARG.git\", \n",
    "    directorio_sampler)\n",
    "\n"
   ]
  },
  {
   "cell_type": "markdown",
   "metadata": {},
   "source": [
    "## Extraer Datos de Base de Datos Censo 2010"
   ]
  },
  {
   "cell_type": "code",
   "execution_count": 2,
   "metadata": {},
   "outputs": [],
   "source": [
    "import numpy as np"
   ]
  },
  {
   "cell_type": "code",
   "execution_count": 3,
   "metadata": {},
   "outputs": [],
   "source": [
    "\n",
    "# years = np.arange(2003, 2023, 1)\n",
    "# years = np.arange(2015, 2016, 1)\n",
    "f_values = [0.005, 0.01, 0.02]\n",
    "\n",
    "os.chdir(directorio_sampler + 'notebooks/')\n",
    "\n",
    "for f in f_values:\n",
    "    !python samplear.py -dbp '/media/matias/Elements/suite/ext_CPV2010_basico_radio_pub' -f {f} -y 2009 2011 -n 'ARGa'\n",
    "    !python samplear.py -dbp '/media/matias/Elements/suite/ext_CPV2010_basico_radio_pub' -f {f} -y 2003 2023 -n 'ARGb'\n",
    "\n",
    "os.chdir('/home/matias/Repos/encuestador-de-hogares/notebooks')\n"
   ]
  }
 ],
 "metadata": {
  "kernelspec": {
   "display_name": "Python 3",
   "language": "python",
   "name": "python3"
  },
  "language_info": {
   "codemirror_mode": {
    "name": "ipython",
    "version": 3
   },
   "file_extension": ".py",
   "mimetype": "text/x-python",
   "name": "python",
   "nbconvert_exporter": "python",
   "pygments_lexer": "ipython3",
   "version": "3.10.6 (main, Nov 14 2022, 16:10:14) [GCC 11.3.0]"
  },
  "vscode": {
   "interpreter": {
    "hash": "916dbcbb3f70747c44a77c7bcd40155683ae19c65e1c03b4aa3499c5328201f1"
   }
  }
 },
 "nbformat": 4,
 "nbformat_minor": 2
}
