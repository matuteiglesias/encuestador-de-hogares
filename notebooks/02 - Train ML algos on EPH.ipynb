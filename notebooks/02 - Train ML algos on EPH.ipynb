{
 "cells": [
  {
   "cell_type": "markdown",
   "metadata": {},
   "source": [
    "# Training ML algos on EPH. Predicting on CENSO."
   ]
  },
  {
   "cell_type": "code",
   "execution_count": 1,
   "metadata": {},
   "outputs": [],
   "source": [
    "import sys\n",
    "ipython_vars = ['In', 'Out', 'exit', 'quit', 'get_ipython', 'ipython_vars']"
   ]
  },
  {
   "cell_type": "markdown",
   "metadata": {},
   "source": [
    "### Parametros"
   ]
  },
  {
   "cell_type": "code",
   "execution_count": 2,
   "metadata": {},
   "outputs": [],
   "source": [
    "overwrite = False\n",
    "startyr = 2019\n",
    "endyr = 2020"
   ]
  },
  {
   "cell_type": "code",
   "execution_count": 3,
   "metadata": {},
   "outputs": [],
   "source": [
    "# Column names\n",
    "y_cols = ['CAT_OCUP', 'P47T', 'PP10E', 'PP10D', 'PP07K', 'PP07I', 'V3_M', 'PP07G4', 'CH16', 'T_VI', \n",
    "          'V12_M', 'TOT_P12', 'PP07G3', 'V5_M', 'PP07H', 'V2_M', 'PP10C', \n",
    "          'PP08D1', 'PP07J', 'CAT_INAC', 'CH07', 'CH08', 'P21', 'PP07G1', 'PP07G_59', 'PP07G2']\n",
    "\n",
    "x_cols1 = ['IX_TOT', 'P02', 'P03', 'AGLO_rk', 'Reg_rk', 'V01', 'H05', 'H06',\n",
    "       'H07', 'H08', 'H09', 'H10', 'H11', 'H12', 'H16', 'H15', 'PROP', 'H14',\n",
    "       'H13', 'P07', 'P08', 'P09', 'P10', 'P05', 'CONDACT']\n",
    "\n",
    "predecir1 = ['CAT_OCUP', 'CAT_INAC', 'CH07']\n",
    "\n",
    "x_cols2 = x_cols1 + predecir1\n",
    "predecir2 = ['INGRESO', 'INGRESO_NLB', 'INGRESO_JUB', 'INGRESO_SBS']\n",
    "\n",
    "x_cols3 = x_cols2 + predecir2\n",
    "# La seccion PP07G pregunta si el trabajo es en blanco y que beneficios tiene. Puede ayudar a la regresion para ingresos.\n",
    "# predecir3 = ['PP07G1', 'PP07G2', 'PP07G3', 'PP07G4', 'PP07G_59', 'PP07H', 'PP07I', 'PP07J', 'PP07K']\n",
    "predecir3 = ['PP07G1','PP07G_59', 'PP07I', 'PP07J', 'PP07K']\n",
    "\n",
    "# Columnas de ingresos. Necesitan una regresion...\n",
    "columnas_pesos = [u'P21', u'P47T', u'PP08D1', u'TOT_P12', u'T_VI', u'V12_M', u'V2_M', u'V3_M', u'V5_M']\n",
    "\n",
    "x_cols4 = x_cols3 + predecir3\n",
    "# Columnas de ingresos. Necesitan una regresion...\n",
    "predecir4 = columnas_pesos\n",
    "y_cols4 = predecir4"
   ]
  },
  {
   "cell_type": "markdown",
   "metadata": {},
   "source": [
    "# Training\n",
    "\n",
    "## Funciones clasificador y regresor"
   ]
  },
  {
   "cell_type": "code",
   "execution_count": 4,
   "metadata": {},
   "outputs": [],
   "source": [
    "from sklearn.model_selection import train_test_split\n",
    "from sklearn.ensemble import RandomForestClassifier, RandomForestRegressor\n",
    "import os\n",
    "import joblib\n",
    "\n",
    "def fit_model(train_data, x_cols, y_cols, out_filename,\n",
    "             model):\n",
    "    X = train_data[x_cols]\n",
    "    y = train_data[y_cols]\n",
    "    \n",
    "    X, X_test, y, y_test = train_test_split(X, y, test_size=0.1) # less memory used\n",
    "    \n",
    "    clf = model.fit(X.values, y.values)\n",
    "\n",
    "    # save the model to disk\n",
    "    if not os.path.exists('./../fitted_RF/'):\n",
    "        os.makedirs('./../fitted_RF/')\n",
    "    joblib.dump(model, out_filename, compress=3)\n",
    "    print('saved model at: ' + out_filename)\n",
    "\n",
    "#     print(sorted([(x, sys.getsizeof(globals().get(x))) for x in dir() if not x.startswith('_') and x not in sys.modules and x not in ipython_vars], key=lambda x: x[1], reverse=True)[:5])\n",
    "    del clf\n",
    "    del X; del y # liberar memoria eliminando los dataframes mas pesados"
   ]
  },
  {
   "cell_type": "markdown",
   "metadata": {},
   "source": [
    "## Loop principal. Entrenar y guardar modelos"
   ]
  },
  {
   "cell_type": "code",
   "execution_count": 5,
   "metadata": {},
   "outputs": [],
   "source": [
    "import pandas as pd\n",
    "from numpy import log10"
   ]
  },
  {
   "cell_type": "code",
   "execution_count": 6,
   "metadata": {},
   "outputs": [
    {
     "name": "stdout",
     "output_type": "stream",
     "text": [
      "2019\n",
      "2019-11-15\n",
      "2019-08-15\n",
      "2019-05-15\n",
      "2019-02-15\n"
     ]
    }
   ],
   "source": [
    "for yr in [str(s) for s in range(startyr, endyr)]:\n",
    "    print(yr)\n",
    "    train_data = pd.read_csv('./../data/training/EPHARG_train_'+yr[2:]+'.csv')\n",
    "    \n",
    "    ## ETAPA 1:\n",
    "    out = './../fitted_RF/clf1_'+yr+'_ARG'\n",
    "    if (not os.path.exists(out)) or (overwrite):\n",
    "        fit_model(train_data, x_cols = x_cols1, y_cols = predecir1, out_filename = out,\n",
    "                 model = RandomForestClassifier(n_estimators=100, max_depth = 20, n_jobs = -1))\n",
    "    \n",
    "    ## ETAPA 2:\n",
    "    out = './../fitted_RF/clf2_'+yr+'_ARG'\n",
    "    if (not os.path.exists(out)) or (overwrite):\n",
    "        fit_model(train_data, x_cols = x_cols2, y_cols = predecir2, out_filename = out,\n",
    "                 model = RandomForestClassifier(n_estimators=100, max_depth = 20, n_jobs = -1))\n",
    "    \n",
    "    ## ETAPA 3:\n",
    "    out = './../fitted_RF/clf3_'+yr+'_ARG'\n",
    "    if (not os.path.exists(out)) or (overwrite):\n",
    "        fit_model(train_data, x_cols = x_cols3, y_cols = predecir3, out_filename = out,\n",
    "                 model = RandomForestClassifier(n_estimators=100, max_depth = 20, n_jobs = -1))\n",
    "    \n",
    "    ## ETAPA 4 (Regresion)\n",
    "    ## Tomar log de las columnas en pesos.\n",
    "    train_data[columnas_pesos] = log10(train_data[columnas_pesos].clip(-.9) + 1)\n",
    "\n",
    "    ## Entrenar modelo, para cada trimestre\n",
    "    for q in train_data.Q.unique():\n",
    "        print(q)\n",
    "        out = './../fitted_RF/clf4_'+q+'_ARG'\n",
    "        if (not os.path.exists(out)) or (overwrite):\n",
    "            train_q = train_data.loc[train_data.Q == q]\n",
    "            fit_model(train_q, x_cols = x_cols4, y_cols = y_cols4, out_filename = out,\n",
    "                     model = RandomForestRegressor(n_estimators=1, max_depth = 40, n_jobs = -1))\n",
    "            del train_q;\n",
    "\n",
    "    del train_data; "
   ]
  },
  {
   "cell_type": "code",
   "execution_count": null,
   "metadata": {},
   "outputs": [],
   "source": []
  }
 ],
 "metadata": {
  "kernelspec": {
   "display_name": "Python 3",
   "language": "python",
   "name": "python3"
  },
  "language_info": {
   "codemirror_mode": {
    "name": "ipython",
    "version": 3
   },
   "file_extension": ".py",
   "mimetype": "text/x-python",
   "name": "python",
   "nbconvert_exporter": "python",
   "pygments_lexer": "ipython3",
   "version": "3.8.5"
  }
 },
 "nbformat": 4,
 "nbformat_minor": 2
}
